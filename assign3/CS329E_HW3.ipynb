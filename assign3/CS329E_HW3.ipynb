{
 "cells": [
  {
   "cell_type": "markdown",
   "metadata": {},
   "source": [
    "## C S 329E HW 3\n",
    "\n",
    "## Feature engineering and linear regression\n",
    "\n",
    "## Kieran Cosgrove\n",
    "\n",
    "For this weeks homework we are going to load in a data set that isn't the \"cleanest\", repair it, do some analysis on the features, estimate a continuous paramter using linear regression, and experiment with trying a few different methods of feature selection.  Is linear regression _really_ machine learning? Depends on who you ask, but it is definitely an important tool for data mining. "
   ]
  },
  {
   "cell_type": "code",
   "execution_count": 1,
   "metadata": {},
   "outputs": [],
   "source": [
    "import pandas as pd\n",
    "import numpy as np\n",
    "import matplotlib.pyplot as plt\n",
    "from math import radians, sin, cos, sqrt\n",
    "import copy\n",
    "\n",
    "## Load in the melb_data_sold_train.csv file here\n",
    "df = pd.read_csv(\"melb_data_sold_train.csv\")"
   ]
  },
  {
   "cell_type": "markdown",
   "metadata": {},
   "source": [
    "## Q1 Fix the dataframe to remove any blanks\n",
    "The linear regression needs all values to be defined.  Use list-wise deletion to remove entries with missing values"
   ]
  },
  {
   "cell_type": "code",
   "execution_count": 2,
   "metadata": {},
   "outputs": [],
   "source": [
    "new_df = df\n",
    "for column_title in new_df:\n",
    "    new_df = new_df[new_df[column_title].notnull()]"
   ]
  },
  {
   "cell_type": "markdown",
   "metadata": {},
   "source": [
    "## Q2 Add a new feature\n",
    "Toorak is known as one of the pricest suburbs in Melbourne.  Create a new column in your dataframe that is the distance in kilometers from the center of Toorak to the latitude/longitude of that row.  Use the latitude / longitude of (-37.841820, 145.015986) for the center of Toorak.  You may assume the Earth is spherical and has radius of 6371.0088km (the first property in the data frame (-37.68178,144.73779) is approx 30 km away)"
   ]
  },
  {
   "cell_type": "code",
   "execution_count": 3,
   "metadata": {},
   "outputs": [],
   "source": [
    "# Step 1 : Define the Haversine distance as a function\n",
    "def haversine_distance(pt1, pt2):\n",
    "    #code here, make sure pt1 and pt2 are passed in as degrees (lat,long) and convert to radians before calculation\n",
    "    in_lat, in_long = radians(pt1[0]), radians(pt1[1])\n",
    "    other_lat, other_long = radians(pt2[0]), radians(pt2[1])\n",
    "    r = 6371.0088\n",
    "    \n",
    "    lat_delta = in_lat - other_lat\n",
    "    long_delta = in_long - other_long\n",
    "    #print(lat_delta, long_delta)\n",
    "    \n",
    "    return 2*r*np.arcsin(sqrt( (sin(lat_delta/2))**2 + cos(in_lat)*cos(other_lat)*(sin(long_delta/2)**2 )))"
   ]
  },
  {
   "cell_type": "code",
   "execution_count": 4,
   "metadata": {},
   "outputs": [
    {
     "data": {
      "text/plain": [
       "1        4.261612\n",
       "3        4.621843\n",
       "4        4.374206\n",
       "6        4.780655\n",
       "7        4.152012\n",
       "          ...    \n",
       "7985    16.998846\n",
       "7988    18.491623\n",
       "7995    11.798784\n",
       "7997    11.986684\n",
       "7999    29.708163\n",
       "Name: distance_to_toorak, Length: 3910, dtype: float64"
      ]
     },
     "execution_count": 4,
     "metadata": {},
     "output_type": "execute_result"
    }
   ],
   "source": [
    "# Step 2 : Use the defintion to calculate the distance for every row in the data frame\n",
    "# Carry on the new data frame with the extra column named 'distance_to_toorak' for the rest of the homework\n",
    "toorak = (-37.841820, 145.015986)\n",
    "new_df[\"distance_to_toorak\"] = new_df.apply(lambda x: haversine_distance((x[\"Lattitude\"], x[\"Longtitude\"]), toorak), axis = 1)\n",
    "new_df[\"distance_to_toorak\"]"
   ]
  },
  {
   "cell_type": "markdown",
   "metadata": {},
   "source": [
    "## Q3 Create a one hot encoding for the categorical column 'Type'\n",
    "Make sure the new columns are merged into the dataframe you are carrying through to the prediction step"
   ]
  },
  {
   "cell_type": "code",
   "execution_count": 5,
   "metadata": {},
   "outputs": [
    {
     "data": {
      "text/html": [
       "<div>\n",
       "<style scoped>\n",
       "    .dataframe tbody tr th:only-of-type {\n",
       "        vertical-align: middle;\n",
       "    }\n",
       "\n",
       "    .dataframe tbody tr th {\n",
       "        vertical-align: top;\n",
       "    }\n",
       "\n",
       "    .dataframe thead th {\n",
       "        text-align: right;\n",
       "    }\n",
       "</style>\n",
       "<table border=\"1\" class=\"dataframe\">\n",
       "  <thead>\n",
       "    <tr style=\"text-align: right;\">\n",
       "      <th></th>\n",
       "      <th>h</th>\n",
       "      <th>t</th>\n",
       "      <th>u</th>\n",
       "    </tr>\n",
       "  </thead>\n",
       "  <tbody>\n",
       "    <tr>\n",
       "      <th>1</th>\n",
       "      <td>1</td>\n",
       "      <td>0</td>\n",
       "      <td>0</td>\n",
       "    </tr>\n",
       "    <tr>\n",
       "      <th>3</th>\n",
       "      <td>1</td>\n",
       "      <td>0</td>\n",
       "      <td>0</td>\n",
       "    </tr>\n",
       "    <tr>\n",
       "      <th>4</th>\n",
       "      <td>1</td>\n",
       "      <td>0</td>\n",
       "      <td>0</td>\n",
       "    </tr>\n",
       "    <tr>\n",
       "      <th>6</th>\n",
       "      <td>1</td>\n",
       "      <td>0</td>\n",
       "      <td>0</td>\n",
       "    </tr>\n",
       "    <tr>\n",
       "      <th>7</th>\n",
       "      <td>0</td>\n",
       "      <td>0</td>\n",
       "      <td>1</td>\n",
       "    </tr>\n",
       "    <tr>\n",
       "      <th>...</th>\n",
       "      <td>...</td>\n",
       "      <td>...</td>\n",
       "      <td>...</td>\n",
       "    </tr>\n",
       "    <tr>\n",
       "      <th>7985</th>\n",
       "      <td>1</td>\n",
       "      <td>0</td>\n",
       "      <td>0</td>\n",
       "    </tr>\n",
       "    <tr>\n",
       "      <th>7988</th>\n",
       "      <td>1</td>\n",
       "      <td>0</td>\n",
       "      <td>0</td>\n",
       "    </tr>\n",
       "    <tr>\n",
       "      <th>7995</th>\n",
       "      <td>0</td>\n",
       "      <td>1</td>\n",
       "      <td>0</td>\n",
       "    </tr>\n",
       "    <tr>\n",
       "      <th>7997</th>\n",
       "      <td>0</td>\n",
       "      <td>1</td>\n",
       "      <td>0</td>\n",
       "    </tr>\n",
       "    <tr>\n",
       "      <th>7999</th>\n",
       "      <td>1</td>\n",
       "      <td>0</td>\n",
       "      <td>0</td>\n",
       "    </tr>\n",
       "  </tbody>\n",
       "</table>\n",
       "<p>3910 rows × 3 columns</p>\n",
       "</div>"
      ],
      "text/plain": [
       "      h  t  u\n",
       "1     1  0  0\n",
       "3     1  0  0\n",
       "4     1  0  0\n",
       "6     1  0  0\n",
       "7     0  0  1\n",
       "...  .. .. ..\n",
       "7985  1  0  0\n",
       "7988  1  0  0\n",
       "7995  0  1  0\n",
       "7997  0  1  0\n",
       "7999  1  0  0\n",
       "\n",
       "[3910 rows x 3 columns]"
      ]
     },
     "execution_count": 5,
     "metadata": {},
     "output_type": "execute_result"
    }
   ],
   "source": [
    "type_cols = pd.get_dummies(new_df['Type'])\n",
    "for col_title in type_cols:\n",
    "    new_df[col_title] = type_cols[col_title]\n",
    "type_cols"
   ]
  },
  {
   "cell_type": "markdown",
   "metadata": {},
   "source": [
    "## Q4 Calculate the correlations between all of your continuous value predictors\n",
    "Use the Pearson correlation as discussed in the lectures. "
   ]
  },
  {
   "cell_type": "code",
   "execution_count": 6,
   "metadata": {},
   "outputs": [
    {
     "data": {
      "text/plain": [
       "[[1.0,\n",
       "  0.5028139970589657,\n",
       "  0.05467550446068218,\n",
       "  0.9416836881939682,\n",
       "  0.59384662591449,\n",
       "  0.4017163828132331,\n",
       "  0.5478162395802538,\n",
       "  -0.030446621758968364,\n",
       "  0.012857821622476152,\n",
       "  0.07484646284611587,\n",
       "  0.0856755549739724,\n",
       "  0.23284434150318145,\n",
       "  0.5011278514572934,\n",
       "  -0.04076215685801859,\n",
       "  -0.5351017662290412],\n",
       " [0.5028139970589657,\n",
       "  1.0,\n",
       "  0.13646832124283947,\n",
       "  0.48011522621006775,\n",
       "  0.46298456207728916,\n",
       "  0.22355172707590468,\n",
       "  0.46559774240484103,\n",
       "  -0.3305603367961711,\n",
       "  -0.2244001085292783,\n",
       "  0.18459714514251438,\n",
       "  0.06402873246014888,\n",
       "  -0.35701269892745036,\n",
       "  0.39176140501646245,\n",
       "  -0.09529455945537856,\n",
       "  -0.3727657591343631],\n",
       " [0.05467550446068218,\n",
       "  0.1364683212428395,\n",
       "  0.9999999999999998,\n",
       "  0.05931087838790853,\n",
       "  0.12204640366386925,\n",
       "  0.03469797841743664,\n",
       "  0.08935518077661954,\n",
       "  0.03556142930744642,\n",
       "  -0.44562478308501574,\n",
       "  0.4719342373418694,\n",
       "  0.014276455236059,\n",
       "  0.00806153782419569,\n",
       "  -0.04050392015644018,\n",
       "  -0.008545721818018007,\n",
       "  0.05175376880727403],\n",
       " [0.9416836881939681,\n",
       "  0.48011522621006775,\n",
       "  0.059310878387908536,\n",
       "  0.9999999999999999,\n",
       "  0.5949203420315023,\n",
       "  0.4038397574024329,\n",
       "  0.5329102296606968,\n",
       "  -0.010030835119076603,\n",
       "  0.019969776133096424,\n",
       "  0.07623564276384805,\n",
       "  0.08323717491971484,\n",
       "  0.24151497421190207,\n",
       "  0.48461199589399473,\n",
       "  -0.0373658744722959,\n",
       "  -0.5189406169695681],\n",
       " [0.59384662591449,\n",
       "  0.4629845620772892,\n",
       "  0.12204640366386926,\n",
       "  0.5949203420315023,\n",
       "  1.0,\n",
       "  0.3222656889455138,\n",
       "  0.47055375225198687,\n",
       "  0.1924697305929892,\n",
       "  -0.0686427183028252,\n",
       "  0.10931285305149321,\n",
       "  0.05948264187436437,\n",
       "  0.05166202571349794,\n",
       "  0.18177347538354904,\n",
       "  0.10814832373335405,\n",
       "  -0.28238953684255785],\n",
       " [0.401716382813233,\n",
       "  0.22355172707590468,\n",
       "  0.03469797841743664,\n",
       "  0.4038397574024329,\n",
       "  0.3222656889455138,\n",
       "  1.0,\n",
       "  0.29961335027658964,\n",
       "  0.1533126051272669,\n",
       "  -0.00783949758365398,\n",
       "  0.03291470791258251,\n",
       "  0.10068615176859202,\n",
       "  0.21475873443142068,\n",
       "  0.21417537891311034,\n",
       "  -0.006835639765164415,\n",
       "  -0.23629806786427193],\n",
       " [0.5478162395802539,\n",
       "  0.46559774240484103,\n",
       "  0.08935518077661954,\n",
       "  0.5329102296606968,\n",
       "  0.4705537522519868,\n",
       "  0.2996133502765897,\n",
       "  1.0,\n",
       "  0.02475443653556938,\n",
       "  -0.047500732739239986,\n",
       "  0.0840744555833213,\n",
       "  0.063136279163884,\n",
       "  0.07666784434695191,\n",
       "  0.30623072873744744,\n",
       "  -0.03239620968216589,\n",
       "  -0.3216142453299896],\n",
       " [-0.030446621758968367,\n",
       "  -0.3305603367961711,\n",
       "  0.03556142930744642,\n",
       "  -0.010030835119076603,\n",
       "  0.19246973059298916,\n",
       "  0.1533126051272669,\n",
       "  0.02475443653556938,\n",
       "  0.9999999999999998,\n",
       "  0.05220476602441354,\n",
       "  0.023061955029020694,\n",
       "  0.028637546636059684,\n",
       "  0.30023578750836516,\n",
       "  -0.4026697625960502,\n",
       "  0.33110492188673923,\n",
       "  0.21568884728888926],\n",
       " [0.012857821622476152,\n",
       "  -0.2244001085292783,\n",
       "  -0.4456247830850158,\n",
       "  0.019969776133096424,\n",
       "  -0.0686427183028252,\n",
       "  -0.007839497583653978,\n",
       "  -0.047500732739239986,\n",
       "  0.05220476602441355,\n",
       "  1.0,\n",
       "  -0.36633071732540984,\n",
       "  0.01073395481336509,\n",
       "  0.28168386093606645,\n",
       "  0.12125375943270181,\n",
       "  -0.02863598017786214,\n",
       "  -0.11599106319794979],\n",
       " [0.07484646284611587,\n",
       "  0.1845971451425144,\n",
       "  0.47193423734186946,\n",
       "  0.07623564276384805,\n",
       "  0.10931285305149321,\n",
       "  0.03291470791258251,\n",
       "  0.0840744555833213,\n",
       "  0.023061955029020698,\n",
       "  -0.36633071732540984,\n",
       "  0.9999999999999999,\n",
       "  0.013978769822567141,\n",
       "  -0.238933203040871,\n",
       "  -0.040387161969227536,\n",
       "  0.023602845185619073,\n",
       "  0.028532755323384847],\n",
       " [0.0856755549739724,\n",
       "  0.06402873246014888,\n",
       "  0.014276455236059003,\n",
       "  0.08323717491971484,\n",
       "  0.05948264187436437,\n",
       "  0.10068615176859201,\n",
       "  0.063136279163884,\n",
       "  0.028637546636059684,\n",
       "  0.01073395481336509,\n",
       "  0.01397876982256714,\n",
       "  0.9999999999999999,\n",
       "  0.04142008065519673,\n",
       "  0.04742187814346369,\n",
       "  -0.06725681617657286,\n",
       "  -0.005102508480926834],\n",
       " [0.23284434150318145,\n",
       "  -0.35701269892745036,\n",
       "  0.00806153782419569,\n",
       "  0.24151497421190207,\n",
       "  0.05166202571349794,\n",
       "  0.21475873443142068,\n",
       "  0.07666784434695192,\n",
       "  0.30023578750836516,\n",
       "  0.2816838609360665,\n",
       "  -0.23893320304087098,\n",
       "  0.04142008065519673,\n",
       "  0.9999999999999999,\n",
       "  0.2211043607056991,\n",
       "  -0.01419179488875281,\n",
       "  -0.2388183045120392],\n",
       " [0.5011278514572933,\n",
       "  0.39176140501646245,\n",
       "  -0.04050392015644018,\n",
       "  0.4846119958939947,\n",
       "  0.18177347538354904,\n",
       "  0.21417537891311034,\n",
       "  0.30623072873744744,\n",
       "  -0.4026697625960502,\n",
       "  0.12125375943270181,\n",
       "  -0.04038716196922754,\n",
       "  0.04742187814346369,\n",
       "  0.2211043607056991,\n",
       "  0.9999999999999999,\n",
       "  -0.48474882701989896,\n",
       "  -0.7780620398131068],\n",
       " [-0.04076215685801859,\n",
       "  -0.09529455945537856,\n",
       "  -0.008545721818018007,\n",
       "  -0.0373658744722959,\n",
       "  0.10814832373335406,\n",
       "  -0.006835639765164414,\n",
       "  -0.03239620968216589,\n",
       "  0.33110492188673923,\n",
       "  -0.02863598017786214,\n",
       "  0.023602845185619076,\n",
       "  -0.06725681617657286,\n",
       "  -0.014191794888752808,\n",
       "  -0.48474882701989896,\n",
       "  1.0,\n",
       "  -0.17228162241713466],\n",
       " [-0.535101766229041,\n",
       "  -0.3727657591343631,\n",
       "  0.05175376880727403,\n",
       "  -0.5189406169695681,\n",
       "  -0.28238953684255785,\n",
       "  -0.23629806786427196,\n",
       "  -0.3216142453299896,\n",
       "  0.21568884728888926,\n",
       "  -0.11599106319794979,\n",
       "  0.028532755323384847,\n",
       "  -0.005102508480926834,\n",
       "  -0.2388183045120392,\n",
       "  -0.7780620398131068,\n",
       "  -0.17228162241713466,\n",
       "  0.9999999999999999]]"
      ]
     },
     "execution_count": 6,
     "metadata": {},
     "output_type": "execute_result"
    }
   ],
   "source": [
    "predictors = [\"Rooms\", \"Price\", \"Postcode\", \"Bedroom2\", \"Bathroom\", \"Car\", \"BuildingArea\", \"YearBuilt\", \"Lattitude\", \"Longtitude\", \"Landsize\", \"distance_to_toorak\", \"h\", \"t\", \"u\"]\n",
    "correlations = []\n",
    "for title1 in predictors:\n",
    "    correlations.append([new_df[title1].corr(new_df[title2]) for title2 in predictors])\n",
    "correlations"
   ]
  },
  {
   "cell_type": "markdown",
   "metadata": {},
   "source": [
    "## Q5 Create a linear regression model to predict home values\n",
    "Using the math in ESLII, section 3.2 equation (3.6) calculate $\\hat{\\beta}$\n",
    "\n",
    "We are going to create a linear regression model using our numeric predictor columns we selected in the last question, and the home value as are the value you are trying to predict.  You may use numpy to do matrix calculations, but you may not use a built in regression library (for example, you may not use scikt-learn). "
   ]
  },
  {
   "cell_type": "code",
   "execution_count": 7,
   "metadata": {},
   "outputs": [],
   "source": [
    "# Step one, build the matrix X\n",
    "new_predictors = copy.copy(predictors)\n",
    "new_predictors.remove(\"Price\")\n",
    "X = np.column_stack([np.transpose(np.array([[1 for i in range(new_df.shape[0])]])), new_df[new_predictors].to_numpy()])"
   ]
  },
  {
   "cell_type": "code",
   "execution_count": 8,
   "metadata": {},
   "outputs": [
    {
     "data": {
      "text/plain": [
       "matrix([[ 1,  5],\n",
       "        [ 2, 10]])"
      ]
     },
     "execution_count": 8,
     "metadata": {},
     "output_type": "execute_result"
    }
   ],
   "source": [
    "# Step two, build the column vector y\n",
    "Y = np.transpose(np.array([new_df[\"Price\"].to_numpy()]))\n",
    "np.matrix([[1,5],[2, 10]])"
   ]
  },
  {
   "cell_type": "code",
   "execution_count": 9,
   "metadata": {},
   "outputs": [],
   "source": [
    "# Step three, find beta hat per the formula (3.6)\n",
    "#beta_hat = np.matmul(np.matmul(np.linalg.inv(np.matmul(X.transpose(), X)), X.transpose()),Y) # not working?? why?\n",
    "beta_hat = np.linalg.lstsq(X, Y, rcond = 0)[0]"
   ]
  },
  {
   "cell_type": "markdown",
   "metadata": {},
   "source": [
    "## Q6 Apply the linear regression model to the test data and visualize the error\n",
    "We will cover other methods of evaluating any sort of prediction later, but for this week's exercise I have partitioned the data into two files.  Load the melb_data_sold_test.csv data set and use the matrix you calculated in the last step to predict the housing prices for data in that file.  Create a visualization that shows the error in your predictions (hint:remember to do all your data pre-processing on the new file!).  For the visualization, a histogram of the absolute error vs the total housing prices is sufficient. "
   ]
  },
  {
   "cell_type": "code",
   "execution_count": 10,
   "metadata": {},
   "outputs": [],
   "source": [
    "# Step zero, load the melb_data_sold_test.csv data for testing.  Use Imputation to fill in any missing values\n",
    "second_df = pd.read_csv(\"melb_data_sold_test.csv\")\n",
    "# mean IMPUTATION!!\n",
    "averages = [second_df[second_df[pred].notnull()][pred].mean() for pred in predictors[:-4]]\n",
    "for indx, pred in enumerate(predictors[:-4]):\n",
    "    second_df.loc[second_df[pred].isnull(), pred] = averages[indx]"
   ]
  },
  {
   "cell_type": "code",
   "execution_count": 11,
   "metadata": {},
   "outputs": [],
   "source": [
    "# Step one, add the new feature for the 'distance_to_toorak' and the one hot encoding to the new data frame\n",
    "second_df[\"distance_to_toorak\"] = second_df.apply(lambda x: haversine_distance((x[\"Lattitude\"], x[\"Longtitude\"]), toorak), axis = 1)\n",
    "type_cols = pd.get_dummies(second_df['Type'])\n",
    "for col_title in type_cols:\n",
    "    second_df[col_title] = type_cols[col_title]"
   ]
  },
  {
   "cell_type": "code",
   "execution_count": 12,
   "metadata": {},
   "outputs": [],
   "source": [
    "# Step two, build the matrix X using the new data frame\n",
    "X2 = np.column_stack([np.transpose(np.array([[1 for i in range(second_df.shape[0])]])), second_df[new_predictors].to_numpy()])"
   ]
  },
  {
   "cell_type": "code",
   "execution_count": 13,
   "metadata": {},
   "outputs": [],
   "source": [
    "# Step three, multiple the new matix X by Beta hat.  This is your predicted price\n",
    "predicted_prices = np.dot(X2, beta_hat)"
   ]
  },
  {
   "cell_type": "code",
   "execution_count": 14,
   "metadata": {},
   "outputs": [
    {
     "data": {
      "image/png": "[encoded data removed]",
      "text/plain": [
       "<Figure size 432x288 with 1 Axes>"
      ]
     },
     "metadata": {
      "needs_background": "light"
     },
     "output_type": "display_data"
    }
   ],
   "source": [
    "# Step four, calculate the absolute value of actual price - predicted price, call this our \"absolute error\"\n",
    "# Create a histogram of the absolute error, and on the same plot create a histogram of the actual price.  \n",
    "# You should use the \"alpha\" parameter to make the graph on top slightly translucent\n",
    "error_prices = [abs(second_df.iloc[[indx]][\"Price\"].item() - price[0]) for indx, price in enumerate(predicted_prices)]\n",
    "plt.hist(error_prices, alpha=0.5, bins = 50, range = (0, 3e6))\n",
    "plt.hist(second_df[\"Price\"], alpha=0.5, bins = 50, range = (0, 3e6))\n",
    "plt.title(\"Actual Price & Error vs Observations\")\n",
    "plt.ylabel(\"Count\")\n",
    "plt.xlabel(\"Price\")\n",
    "plt.legend([\"Absolute Error of Estimate\", \"Actual Price\"])\n",
    "plt.show()"
   ]
  }
 ],
 "metadata": {
  "kernelspec": {
   "display_name": "Python 3",
   "language": "python",
   "name": "python3"
  },
  "language_info": {
   "codemirror_mode": {
    "name": "ipython",
    "version": 3
   },
   "file_extension": ".py",
   "mimetype": "text/x-python",
   "name": "python",
   "nbconvert_exporter": "python",
   "pygments_lexer": "ipython3",
   "version": "3.8.3"
  }
 },
 "nbformat": 4,
 "nbformat_minor": 4
}
