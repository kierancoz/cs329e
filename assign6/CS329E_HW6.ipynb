{
 "cells": [
  {
   "cell_type": "markdown",
   "metadata": {},
   "source": [
    "## C S 329E HW 6\n",
    "\n",
    "# KNN \n",
    "\n",
    "## Kieran Cosgrove & Alec Biggerstaff\n",
    "\n",
    "For this week's homework we are going explore one new classification technique:\n",
    "\n",
    "  - k nearest neighbors\n",
    "\n",
    "We are using a different version of the Melbourne housing data set, to predict the housing type as one of three possible categories:\n",
    "\n",
    "  - 'h' house\n",
    "  - 'u' duplex\n",
    "  - 't' townhouse\n",
    "\n",
    "At the end of this homework, I expect you to understand how to build and use a kNN model, and practice your data cleaning and data preparation skills. "
   ]
  },
  {
   "cell_type": "code",
   "execution_count": 1,
   "metadata": {},
   "outputs": [],
   "source": [
    "# These are the libraries you will use for this assignment\n",
    "import pandas as pd\n",
    "import numpy as np\n",
    "import matplotlib.pyplot as plt\n",
    "import time\n",
    "import calendar\n",
    "%matplotlib inline\n",
    "\n",
    "# Starting off loading a training set\n",
    "df_melb = pd.read_csv('melb_data_train.csv')"
   ]
  },
  {
   "cell_type": "markdown",
   "metadata": {},
   "source": [
    "## Q1 - Fix a column of data to be numeric\n",
    "If we inspect our dataframe, `df_melb` using the `dtypes` method, we see that the column \"Date\" is an object.  However, we think this column might contain useful information so we want to convert it to [seconds since epoch](https://en.wikipedia.org/wiki/Unix_time). Use only the exiting imported libraries to create a new column \"unixtime\". Be careful, the date strings in the file might have some non-uniform formatting that you have to fix first.  Print out the min and max epoch time to check your work.  Drop the original \"Date\" column. Please use the python [reference for time](https://docs.python.org/3/library/time.html) to help you do the string to Unix time conversion. "
   ]
  },
  {
   "cell_type": "code",
   "execution_count": 2,
   "metadata": {},
   "outputs": [],
   "source": [
    "# normalize date accepts the date string as shown in the df_melb 'Date' column,\n",
    "# and returns a data in a standarized format\n",
    "def standardize_date(d):\n",
    "    split_d = d.split(\"/\")\n",
    "    if len(split_d[2]) == 2:\n",
    "        split_d[2] = \"20\" + split_d[2]\n",
    "    return \"/\".join(split_d)"
   ]
  },
  {
   "cell_type": "code",
   "execution_count": 3,
   "metadata": {},
   "outputs": [],
   "source": [
    "def get_unit_time(d):\n",
    "    split_d = d.split(\"/\")\n",
    "    return calendar.timegm((int(split_d[2]), int(split_d[1]), int(split_d[0]), 0, 0, 0, 6, 3, -1))"
   ]
  },
  {
   "cell_type": "code",
   "execution_count": 4,
   "metadata": {},
   "outputs": [
    {
     "name": "stdout",
     "output_type": "stream",
     "text": [
      "The min unixtime is 1454544000 and the max unixtime is 1506124800\n"
     ]
    }
   ],
   "source": [
    "df_melb['Date'] = df_melb['Date'].apply( lambda x : standardize_date(x))\n",
    "df_melb['unixtime'] = df_melb['Date'].apply( lambda x : get_unit_time(x))\n",
    "df_melb = df_melb.drop(columns=\"Date\")\n",
    "print(\"The min unixtime is {:d} and the max unixtime is {:d}\".format(df_melb['unixtime'].min(),df_melb['unixtime'].max()))"
   ]
  },
  {
   "cell_type": "markdown",
   "metadata": {},
   "source": [
    "## Q2 Use Imputation to fill in missing values\n",
    "kNN doesn't work when the attributes are not valid for all of the attribute columns, so fill in all the missing values in `df_melb` with the mean of that column.  Save the mean of each column in a dictionary, `dict_imputation`, whose key is the attribute column name, so we can apply the same imputation to the test set later. Show your `dict_imputation` dictionary and the head of your `df_melb` dataframe.  The target classfication is stored in the column `'Type'`, so we are going to define a variable target_col so we can reference the target_col using a variable. (hint: during imputation you skip the target column)"
   ]
  },
  {
   "cell_type": "code",
   "execution_count": 5,
   "metadata": {},
   "outputs": [],
   "source": [
    "target_col = 'Type'"
   ]
  },
  {
   "cell_type": "code",
   "execution_count": 6,
   "metadata": {},
   "outputs": [],
   "source": [
    "dict_imputation = dict()\n",
    "for col in df_melb.columns:\n",
    "    if col != target_col:\n",
    "        dict_imputation.update({col:df_melb[df_melb[col].notnull()][col].mean()})\n",
    "        df_melb.loc[df_melb[col].isnull(), col] = dict_imputation.get(col)"
   ]
  },
  {
   "cell_type": "code",
   "execution_count": 7,
   "metadata": {},
   "outputs": [
    {
     "data": {
      "text/plain": [
       "{'Rooms': 2.710769230769231,\n",
       " 'Price': 941972.2953846154,\n",
       " 'Distance': 10.206256410256412,\n",
       " 'Postcode': 3110.873846153846,\n",
       " 'Bathroom': 1.4543589743589744,\n",
       " 'Car': 1.4938398357289528,\n",
       " 'Landsize': 514.2184615384615,\n",
       " 'BuildingArea': 131.379476861167,\n",
       " 'YearBuilt': 1971.0204429301534,\n",
       " 'unixtime': 1485036288.0}"
      ]
     },
     "execution_count": 7,
     "metadata": {},
     "output_type": "execute_result"
    }
   ],
   "source": [
    "dict_imputation"
   ]
  },
  {
   "cell_type": "code",
   "execution_count": 8,
   "metadata": {},
   "outputs": [
    {
     "data": {
      "text/html": [
       "<div>\n",
       "<style scoped>\n",
       "    .dataframe tbody tr th:only-of-type {\n",
       "        vertical-align: middle;\n",
       "    }\n",
       "\n",
       "    .dataframe tbody tr th {\n",
       "        vertical-align: top;\n",
       "    }\n",
       "\n",
       "    .dataframe thead th {\n",
       "        text-align: right;\n",
       "    }\n",
       "</style>\n",
       "<table border=\"1\" class=\"dataframe\">\n",
       "  <thead>\n",
       "    <tr style=\"text-align: right;\">\n",
       "      <th></th>\n",
       "      <th>Rooms</th>\n",
       "      <th>Type</th>\n",
       "      <th>Price</th>\n",
       "      <th>Distance</th>\n",
       "      <th>Postcode</th>\n",
       "      <th>Bathroom</th>\n",
       "      <th>Car</th>\n",
       "      <th>Landsize</th>\n",
       "      <th>BuildingArea</th>\n",
       "      <th>YearBuilt</th>\n",
       "      <th>unixtime</th>\n",
       "    </tr>\n",
       "  </thead>\n",
       "  <tbody>\n",
       "    <tr>\n",
       "      <th>0</th>\n",
       "      <td>3.0</td>\n",
       "      <td>t</td>\n",
       "      <td>732000.0</td>\n",
       "      <td>5.6</td>\n",
       "      <td>3101.0</td>\n",
       "      <td>1.0</td>\n",
       "      <td>1.0</td>\n",
       "      <td>904.0</td>\n",
       "      <td>110.000000</td>\n",
       "      <td>1980.000000</td>\n",
       "      <td>1.469491e+09</td>\n",
       "    </tr>\n",
       "    <tr>\n",
       "      <th>1</th>\n",
       "      <td>3.0</td>\n",
       "      <td>h</td>\n",
       "      <td>1001000.0</td>\n",
       "      <td>12.6</td>\n",
       "      <td>3020.0</td>\n",
       "      <td>1.0</td>\n",
       "      <td>5.0</td>\n",
       "      <td>879.0</td>\n",
       "      <td>131.379477</td>\n",
       "      <td>1971.020443</td>\n",
       "      <td>1.488586e+09</td>\n",
       "    </tr>\n",
       "    <tr>\n",
       "      <th>2</th>\n",
       "      <td>2.0</td>\n",
       "      <td>u</td>\n",
       "      <td>605000.0</td>\n",
       "      <td>7.4</td>\n",
       "      <td>3185.0</td>\n",
       "      <td>1.0</td>\n",
       "      <td>1.0</td>\n",
       "      <td>722.0</td>\n",
       "      <td>131.379477</td>\n",
       "      <td>1970.000000</td>\n",
       "      <td>1.462579e+09</td>\n",
       "    </tr>\n",
       "    <tr>\n",
       "      <th>3</th>\n",
       "      <td>3.0</td>\n",
       "      <td>h</td>\n",
       "      <td>757500.0</td>\n",
       "      <td>18.8</td>\n",
       "      <td>3170.0</td>\n",
       "      <td>2.0</td>\n",
       "      <td>1.0</td>\n",
       "      <td>145.0</td>\n",
       "      <td>131.379477</td>\n",
       "      <td>1971.020443</td>\n",
       "      <td>1.497658e+09</td>\n",
       "    </tr>\n",
       "    <tr>\n",
       "      <th>4</th>\n",
       "      <td>4.0</td>\n",
       "      <td>h</td>\n",
       "      <td>721000.0</td>\n",
       "      <td>17.9</td>\n",
       "      <td>3082.0</td>\n",
       "      <td>2.0</td>\n",
       "      <td>2.0</td>\n",
       "      <td>603.0</td>\n",
       "      <td>131.379477</td>\n",
       "      <td>1971.020443</td>\n",
       "      <td>1.505520e+09</td>\n",
       "    </tr>\n",
       "  </tbody>\n",
       "</table>\n",
       "</div>"
      ],
      "text/plain": [
       "   Rooms Type      Price  Distance  Postcode  Bathroom  Car  Landsize  \\\n",
       "0    3.0    t   732000.0       5.6    3101.0       1.0  1.0     904.0   \n",
       "1    3.0    h  1001000.0      12.6    3020.0       1.0  5.0     879.0   \n",
       "2    2.0    u   605000.0       7.4    3185.0       1.0  1.0     722.0   \n",
       "3    3.0    h   757500.0      18.8    3170.0       2.0  1.0     145.0   \n",
       "4    4.0    h   721000.0      17.9    3082.0       2.0  2.0     603.0   \n",
       "\n",
       "   BuildingArea    YearBuilt      unixtime  \n",
       "0    110.000000  1980.000000  1.469491e+09  \n",
       "1    131.379477  1971.020443  1.488586e+09  \n",
       "2    131.379477  1970.000000  1.462579e+09  \n",
       "3    131.379477  1971.020443  1.497658e+09  \n",
       "4    131.379477  1971.020443  1.505520e+09  "
      ]
     },
     "execution_count": 8,
     "metadata": {},
     "output_type": "execute_result"
    }
   ],
   "source": [
    "df_melb.head()"
   ]
  },
  {
   "cell_type": "markdown",
   "metadata": {},
   "source": [
    "## Q3 Normalize all the attributes to be between [0,1]\n",
    "Normalize all the attribute columns in `df_melb` so they have a value between zero and one (inclusive). Save the (min,max) tuple used to normalize to a dictionary, `dict_normalize`, so we can apply it to the test set later.  The dataframe `df_melb` is now your \"model\" that you can use to classify new data points. (hint: during normalization you skip the target column)"
   ]
  },
  {
   "cell_type": "code",
   "execution_count": 9,
   "metadata": {},
   "outputs": [],
   "source": [
    "dict_normalize = dict()\n",
    "for col in df_melb.columns:\n",
    "    if col != target_col:   \n",
    "        df = df_melb[col]\n",
    "        dict_normalize.update({col:(min(df), max(df))})\n",
    "        pair = dict_normalize.get(col)\n",
    "        df_melb[col] = (df_melb[col] - pair[0]) / (pair[1] - pair[0])"
   ]
  },
  {
   "cell_type": "code",
   "execution_count": 10,
   "metadata": {},
   "outputs": [
    {
     "data": {
      "text/plain": [
       "{'Rooms': (1.0, 7.0),\n",
       " 'Price': (210000.0, 5020000.0),\n",
       " 'Distance': (0.7, 47.3),\n",
       " 'Postcode': (3000.0, 3810.0),\n",
       " 'Bathroom': (0.0, 5.0),\n",
       " 'Car': (0.0, 8.0),\n",
       " 'Landsize': (0.0, 41400.0),\n",
       " 'BuildingArea': (0.0, 3558.0),\n",
       " 'YearBuilt': (1850.0, 2016.0),\n",
       " 'unixtime': (1454544000.0, 1506124800.0)}"
      ]
     },
     "execution_count": 10,
     "metadata": {},
     "output_type": "execute_result"
    }
   ],
   "source": [
    "dict_normalize"
   ]
  },
  {
   "cell_type": "code",
   "execution_count": 11,
   "metadata": {},
   "outputs": [
    {
     "data": {
      "text/html": [
       "<div>\n",
       "<style scoped>\n",
       "    .dataframe tbody tr th:only-of-type {\n",
       "        vertical-align: middle;\n",
       "    }\n",
       "\n",
       "    .dataframe tbody tr th {\n",
       "        vertical-align: top;\n",
       "    }\n",
       "\n",
       "    .dataframe thead th {\n",
       "        text-align: right;\n",
       "    }\n",
       "</style>\n",
       "<table border=\"1\" class=\"dataframe\">\n",
       "  <thead>\n",
       "    <tr style=\"text-align: right;\">\n",
       "      <th></th>\n",
       "      <th>Rooms</th>\n",
       "      <th>Type</th>\n",
       "      <th>Price</th>\n",
       "      <th>Distance</th>\n",
       "      <th>Postcode</th>\n",
       "      <th>Bathroom</th>\n",
       "      <th>Car</th>\n",
       "      <th>Landsize</th>\n",
       "      <th>BuildingArea</th>\n",
       "      <th>YearBuilt</th>\n",
       "      <th>unixtime</th>\n",
       "    </tr>\n",
       "  </thead>\n",
       "  <tbody>\n",
       "    <tr>\n",
       "      <th>0</th>\n",
       "      <td>0.333333</td>\n",
       "      <td>t</td>\n",
       "      <td>0.108524</td>\n",
       "      <td>0.105150</td>\n",
       "      <td>0.124691</td>\n",
       "      <td>0.2</td>\n",
       "      <td>0.125</td>\n",
       "      <td>0.021836</td>\n",
       "      <td>0.030916</td>\n",
       "      <td>0.783133</td>\n",
       "      <td>0.289782</td>\n",
       "    </tr>\n",
       "    <tr>\n",
       "      <th>1</th>\n",
       "      <td>0.333333</td>\n",
       "      <td>h</td>\n",
       "      <td>0.164449</td>\n",
       "      <td>0.255365</td>\n",
       "      <td>0.024691</td>\n",
       "      <td>0.2</td>\n",
       "      <td>0.625</td>\n",
       "      <td>0.021232</td>\n",
       "      <td>0.036925</td>\n",
       "      <td>0.729039</td>\n",
       "      <td>0.659966</td>\n",
       "    </tr>\n",
       "    <tr>\n",
       "      <th>2</th>\n",
       "      <td>0.166667</td>\n",
       "      <td>u</td>\n",
       "      <td>0.082121</td>\n",
       "      <td>0.143777</td>\n",
       "      <td>0.228395</td>\n",
       "      <td>0.2</td>\n",
       "      <td>0.125</td>\n",
       "      <td>0.017440</td>\n",
       "      <td>0.036925</td>\n",
       "      <td>0.722892</td>\n",
       "      <td>0.155779</td>\n",
       "    </tr>\n",
       "    <tr>\n",
       "      <th>3</th>\n",
       "      <td>0.333333</td>\n",
       "      <td>h</td>\n",
       "      <td>0.113825</td>\n",
       "      <td>0.388412</td>\n",
       "      <td>0.209877</td>\n",
       "      <td>0.4</td>\n",
       "      <td>0.125</td>\n",
       "      <td>0.003502</td>\n",
       "      <td>0.036925</td>\n",
       "      <td>0.729039</td>\n",
       "      <td>0.835846</td>\n",
       "    </tr>\n",
       "    <tr>\n",
       "      <th>4</th>\n",
       "      <td>0.500000</td>\n",
       "      <td>h</td>\n",
       "      <td>0.106237</td>\n",
       "      <td>0.369099</td>\n",
       "      <td>0.101235</td>\n",
       "      <td>0.4</td>\n",
       "      <td>0.250</td>\n",
       "      <td>0.014565</td>\n",
       "      <td>0.036925</td>\n",
       "      <td>0.729039</td>\n",
       "      <td>0.988275</td>\n",
       "    </tr>\n",
       "  </tbody>\n",
       "</table>\n",
       "</div>"
      ],
      "text/plain": [
       "      Rooms Type     Price  Distance  Postcode  Bathroom    Car  Landsize  \\\n",
       "0  0.333333    t  0.108524  0.105150  0.124691       0.2  0.125  0.021836   \n",
       "1  0.333333    h  0.164449  0.255365  0.024691       0.2  0.625  0.021232   \n",
       "2  0.166667    u  0.082121  0.143777  0.228395       0.2  0.125  0.017440   \n",
       "3  0.333333    h  0.113825  0.388412  0.209877       0.4  0.125  0.003502   \n",
       "4  0.500000    h  0.106237  0.369099  0.101235       0.4  0.250  0.014565   \n",
       "\n",
       "   BuildingArea  YearBuilt  unixtime  \n",
       "0      0.030916   0.783133  0.289782  \n",
       "1      0.036925   0.729039  0.659966  \n",
       "2      0.036925   0.722892  0.155779  \n",
       "3      0.036925   0.729039  0.835846  \n",
       "4      0.036925   0.729039  0.988275  "
      ]
     },
     "execution_count": 11,
     "metadata": {},
     "output_type": "execute_result"
    }
   ],
   "source": [
    "df_melb.head()"
   ]
  },
  {
   "cell_type": "markdown",
   "metadata": {},
   "source": [
    "## Q4 Load in the Test data and prep it for classification\n",
    "Everything we did to our \"train\" set, we need to now do in our \"test\" set. "
   ]
  },
  {
   "cell_type": "code",
   "execution_count": 12,
   "metadata": {},
   "outputs": [],
   "source": [
    "df_test = pd.read_csv(\"melb_data_test.csv\")"
   ]
  },
  {
   "cell_type": "code",
   "execution_count": 13,
   "metadata": {},
   "outputs": [
    {
     "name": "stdout",
     "output_type": "stream",
     "text": [
      "The min unixtime is 1454544000 and the max unixtime is 1506124800\n"
     ]
    }
   ],
   "source": [
    "# Your code here to fix date\n",
    "df_test['Date'] = df_test['Date'].apply( lambda x : standardize_date(x))\n",
    "df_test['unixtime'] = df_test['Date'].apply( lambda x : get_unit_time(x))\n",
    "df_test = df_test.drop(columns=\"Date\")\n",
    "print(\"The min unixtime is {:d} and the max unixtime is {:d}\".format(df_test['unixtime'].min(),df_test['unixtime'].max()))"
   ]
  },
  {
   "cell_type": "code",
   "execution_count": 14,
   "metadata": {},
   "outputs": [
    {
     "data": {
      "text/html": [
       "<div>\n",
       "<style scoped>\n",
       "    .dataframe tbody tr th:only-of-type {\n",
       "        vertical-align: middle;\n",
       "    }\n",
       "\n",
       "    .dataframe tbody tr th {\n",
       "        vertical-align: top;\n",
       "    }\n",
       "\n",
       "    .dataframe thead th {\n",
       "        text-align: right;\n",
       "    }\n",
       "</style>\n",
       "<table border=\"1\" class=\"dataframe\">\n",
       "  <thead>\n",
       "    <tr style=\"text-align: right;\">\n",
       "      <th></th>\n",
       "      <th>Rooms</th>\n",
       "      <th>Type</th>\n",
       "      <th>Price</th>\n",
       "      <th>Distance</th>\n",
       "      <th>Postcode</th>\n",
       "      <th>Bathroom</th>\n",
       "      <th>Car</th>\n",
       "      <th>Landsize</th>\n",
       "      <th>BuildingArea</th>\n",
       "      <th>YearBuilt</th>\n",
       "      <th>unixtime</th>\n",
       "    </tr>\n",
       "  </thead>\n",
       "  <tbody>\n",
       "    <tr>\n",
       "      <th>0</th>\n",
       "      <td>2.0</td>\n",
       "      <td>t</td>\n",
       "      <td>790000.0</td>\n",
       "      <td>11.2</td>\n",
       "      <td>3046.0</td>\n",
       "      <td>2.0</td>\n",
       "      <td>1.0</td>\n",
       "      <td>208.0</td>\n",
       "      <td>127.000000</td>\n",
       "      <td>2010.000000</td>\n",
       "      <td>1.497658e+09</td>\n",
       "    </tr>\n",
       "    <tr>\n",
       "      <th>1</th>\n",
       "      <td>3.0</td>\n",
       "      <td>h</td>\n",
       "      <td>1355000.0</td>\n",
       "      <td>8.8</td>\n",
       "      <td>3072.0</td>\n",
       "      <td>1.0</td>\n",
       "      <td>2.0</td>\n",
       "      <td>916.0</td>\n",
       "      <td>131.379477</td>\n",
       "      <td>1971.020443</td>\n",
       "      <td>1.476490e+09</td>\n",
       "    </tr>\n",
       "    <tr>\n",
       "      <th>2</th>\n",
       "      <td>5.0</td>\n",
       "      <td>h</td>\n",
       "      <td>2810000.0</td>\n",
       "      <td>6.3</td>\n",
       "      <td>3143.0</td>\n",
       "      <td>2.0</td>\n",
       "      <td>2.0</td>\n",
       "      <td>617.0</td>\n",
       "      <td>131.379477</td>\n",
       "      <td>1971.020443</td>\n",
       "      <td>1.472342e+09</td>\n",
       "    </tr>\n",
       "    <tr>\n",
       "      <th>3</th>\n",
       "      <td>3.0</td>\n",
       "      <td>h</td>\n",
       "      <td>850000.0</td>\n",
       "      <td>10.5</td>\n",
       "      <td>3034.0</td>\n",
       "      <td>1.0</td>\n",
       "      <td>1.0</td>\n",
       "      <td>593.0</td>\n",
       "      <td>118.000000</td>\n",
       "      <td>1970.000000</td>\n",
       "      <td>1.472861e+09</td>\n",
       "    </tr>\n",
       "    <tr>\n",
       "      <th>4</th>\n",
       "      <td>3.0</td>\n",
       "      <td>h</td>\n",
       "      <td>810000.0</td>\n",
       "      <td>38.0</td>\n",
       "      <td>3199.0</td>\n",
       "      <td>1.0</td>\n",
       "      <td>2.0</td>\n",
       "      <td>835.0</td>\n",
       "      <td>118.000000</td>\n",
       "      <td>1960.000000</td>\n",
       "      <td>1.499472e+09</td>\n",
       "    </tr>\n",
       "  </tbody>\n",
       "</table>\n",
       "</div>"
      ],
      "text/plain": [
       "   Rooms Type      Price  Distance  Postcode  Bathroom  Car  Landsize  \\\n",
       "0    2.0    t   790000.0      11.2    3046.0       2.0  1.0     208.0   \n",
       "1    3.0    h  1355000.0       8.8    3072.0       1.0  2.0     916.0   \n",
       "2    5.0    h  2810000.0       6.3    3143.0       2.0  2.0     617.0   \n",
       "3    3.0    h   850000.0      10.5    3034.0       1.0  1.0     593.0   \n",
       "4    3.0    h   810000.0      38.0    3199.0       1.0  2.0     835.0   \n",
       "\n",
       "   BuildingArea    YearBuilt      unixtime  \n",
       "0    127.000000  2010.000000  1.497658e+09  \n",
       "1    131.379477  1971.020443  1.476490e+09  \n",
       "2    131.379477  1971.020443  1.472342e+09  \n",
       "3    118.000000  1970.000000  1.472861e+09  \n",
       "4    118.000000  1960.000000  1.499472e+09  "
      ]
     },
     "execution_count": 14,
     "metadata": {},
     "output_type": "execute_result"
    }
   ],
   "source": [
    "# Your code here for imputation - must use dictionary from above!\n",
    "for col in df_test.columns:\n",
    "    if col != \"Type\":\n",
    "        df_test.loc[df_test[col].isnull(), col] = dict_imputation.get(col)\n",
    "df_test.head()        "
   ]
  },
  {
   "cell_type": "code",
   "execution_count": 15,
   "metadata": {},
   "outputs": [
    {
     "data": {
      "text/html": [
       "<div>\n",
       "<style scoped>\n",
       "    .dataframe tbody tr th:only-of-type {\n",
       "        vertical-align: middle;\n",
       "    }\n",
       "\n",
       "    .dataframe tbody tr th {\n",
       "        vertical-align: top;\n",
       "    }\n",
       "\n",
       "    .dataframe thead th {\n",
       "        text-align: right;\n",
       "    }\n",
       "</style>\n",
       "<table border=\"1\" class=\"dataframe\">\n",
       "  <thead>\n",
       "    <tr style=\"text-align: right;\">\n",
       "      <th></th>\n",
       "      <th>Rooms</th>\n",
       "      <th>Type</th>\n",
       "      <th>Price</th>\n",
       "      <th>Distance</th>\n",
       "      <th>Postcode</th>\n",
       "      <th>Bathroom</th>\n",
       "      <th>Car</th>\n",
       "      <th>Landsize</th>\n",
       "      <th>BuildingArea</th>\n",
       "      <th>YearBuilt</th>\n",
       "      <th>unixtime</th>\n",
       "    </tr>\n",
       "  </thead>\n",
       "  <tbody>\n",
       "    <tr>\n",
       "      <th>0</th>\n",
       "      <td>0.166667</td>\n",
       "      <td>t</td>\n",
       "      <td>0.120582</td>\n",
       "      <td>0.225322</td>\n",
       "      <td>0.056790</td>\n",
       "      <td>0.4</td>\n",
       "      <td>0.125</td>\n",
       "      <td>0.005024</td>\n",
       "      <td>0.035694</td>\n",
       "      <td>0.963855</td>\n",
       "      <td>0.835846</td>\n",
       "    </tr>\n",
       "    <tr>\n",
       "      <th>1</th>\n",
       "      <td>0.333333</td>\n",
       "      <td>h</td>\n",
       "      <td>0.238046</td>\n",
       "      <td>0.173820</td>\n",
       "      <td>0.088889</td>\n",
       "      <td>0.2</td>\n",
       "      <td>0.250</td>\n",
       "      <td>0.022126</td>\n",
       "      <td>0.036925</td>\n",
       "      <td>0.729039</td>\n",
       "      <td>0.425461</td>\n",
       "    </tr>\n",
       "    <tr>\n",
       "      <th>2</th>\n",
       "      <td>0.666667</td>\n",
       "      <td>h</td>\n",
       "      <td>0.540541</td>\n",
       "      <td>0.120172</td>\n",
       "      <td>0.176543</td>\n",
       "      <td>0.4</td>\n",
       "      <td>0.250</td>\n",
       "      <td>0.014903</td>\n",
       "      <td>0.036925</td>\n",
       "      <td>0.729039</td>\n",
       "      <td>0.345059</td>\n",
       "    </tr>\n",
       "    <tr>\n",
       "      <th>3</th>\n",
       "      <td>0.333333</td>\n",
       "      <td>h</td>\n",
       "      <td>0.133056</td>\n",
       "      <td>0.210300</td>\n",
       "      <td>0.041975</td>\n",
       "      <td>0.2</td>\n",
       "      <td>0.125</td>\n",
       "      <td>0.014324</td>\n",
       "      <td>0.033165</td>\n",
       "      <td>0.722892</td>\n",
       "      <td>0.355109</td>\n",
       "    </tr>\n",
       "    <tr>\n",
       "      <th>4</th>\n",
       "      <td>0.333333</td>\n",
       "      <td>h</td>\n",
       "      <td>0.124740</td>\n",
       "      <td>0.800429</td>\n",
       "      <td>0.245679</td>\n",
       "      <td>0.2</td>\n",
       "      <td>0.250</td>\n",
       "      <td>0.020169</td>\n",
       "      <td>0.033165</td>\n",
       "      <td>0.662651</td>\n",
       "      <td>0.871022</td>\n",
       "    </tr>\n",
       "  </tbody>\n",
       "</table>\n",
       "</div>"
      ],
      "text/plain": [
       "      Rooms Type     Price  Distance  Postcode  Bathroom    Car  Landsize  \\\n",
       "0  0.166667    t  0.120582  0.225322  0.056790       0.4  0.125  0.005024   \n",
       "1  0.333333    h  0.238046  0.173820  0.088889       0.2  0.250  0.022126   \n",
       "2  0.666667    h  0.540541  0.120172  0.176543       0.4  0.250  0.014903   \n",
       "3  0.333333    h  0.133056  0.210300  0.041975       0.2  0.125  0.014324   \n",
       "4  0.333333    h  0.124740  0.800429  0.245679       0.2  0.250  0.020169   \n",
       "\n",
       "   BuildingArea  YearBuilt  unixtime  \n",
       "0      0.035694   0.963855  0.835846  \n",
       "1      0.036925   0.729039  0.425461  \n",
       "2      0.036925   0.729039  0.345059  \n",
       "3      0.033165   0.722892  0.355109  \n",
       "4      0.033165   0.662651  0.871022  "
      ]
     },
     "execution_count": 15,
     "metadata": {},
     "output_type": "execute_result"
    }
   ],
   "source": [
    "# Your code here for scaling - must use dictionary from above!\n",
    "for col in df_test.columns:\n",
    "    if col != \"Type\":   \n",
    "        pair = dict_normalize.get(col)\n",
    "        df_test[col] = (df_test[col] - pair[0]) / (pair[1] - pair[0])\n",
    "df_test.head()"
   ]
  },
  {
   "cell_type": "markdown",
   "metadata": {},
   "source": [
    "## Q5 Write the kNN classifier function\n",
    "Your function `knn_class`, should take four parameters, the training dataframe (that includes the target column), the hyper parameter `k`, the name of the target column, and a single observation row (a series generated from iterrows) of the test dataframe.  We are assuming that the parameter `df_train` contains all of the attributes, and the target class in the same dataframe. The function returns the predicted target classification for that observation. To find the distance between the single observation and the training data frame you may use the [L2 norm](https://numpy.org/doc/stable/reference/generated/numpy.linalg.norm.html)"
   ]
  },
  {
   "cell_type": "code",
   "execution_count": 16,
   "metadata": {},
   "outputs": [],
   "source": [
    "def knn_class(df_train, k, target_col, observation ):\n",
    "    # find distance to nearest training points (k neighbors)\n",
    "    \n",
    "    distance_result_pairs = {} # key = distance, value = result\n",
    "   \n",
    "    for row in df_train.iterrows():\n",
    "        distance = np.linalg.norm(observation.drop(target_col)-row[1].drop(target_col))\n",
    "        distance_result_pairs[distance] = row[1][\"Type\"]\n",
    "    \n",
    "    distances = list(distance_result_pairs.keys())\n",
    "    distances.sort()\n",
    "    shortest_distances = distances[:k]\n",
    "    \n",
    "    # determine majority vote of k neighbors\n",
    "\n",
    "    # count votes\n",
    "    votes = {}\n",
    "    for dist in shortest_distances:\n",
    "        result = distance_result_pairs.get(dist)\n",
    "        votes[result] = votes.get(result, 0) + 1\n",
    "        \n",
    "    # find top votes\n",
    "    top_vote = None\n",
    "    for key, value in votes.items():\n",
    "        if not top_vote:\n",
    "            top_vote = (key, value)\n",
    "        elif top_vote[1] <= value:\n",
    "            top_vote = (key, value)\n",
    "    \n",
    "    # return majority vote\n",
    "    return top_vote[0]"
   ]
  },
  {
   "cell_type": "markdown",
   "metadata": {},
   "source": [
    "## Q6 Compute the accuracy using different k values\n",
    "For each value of $k$ in the set $\\{1,3,13,25,50,100\\}$ calculate the class prediction for each oberservation in the test set, and the overall accuracy of the classifier.  Plot the accuracy as a function of $k$.\n",
    "\n",
    "Which value of $k$ would you chose?\n",
    "\n",
    "Note, this took 5 minutes on my computer. "
   ]
  },
  {
   "cell_type": "code",
   "execution_count": 17,
   "metadata": {},
   "outputs": [],
   "source": [
    "poss_k = [1,3,13,25,50,100] # possible k's\n",
    "acc_k = [0,0,0,0,0,0] # the accuracy at each value of k\n",
    "\n",
    "def get_acc(s_1, s_2):\n",
    "    count = 0\n",
    "    for indx, val in enumerate(s_1):\n",
    "        count += 1 if val == s_2[indx] else 0\n",
    "    return count/len(s_1)\n",
    "\n",
    "counter = 0\n",
    "count = 0\n",
    "for k in poss_k:\n",
    "    \n",
    "    predictions = []\n",
    "    for observation in df_test.iterrows():\n",
    "\n",
    "        classification = knn_class(df_melb, k, target_col, observation[1])\n",
    "        predictions.append(classification)\n",
    "            \n",
    "    acc_k[counter] = get_acc(df_test['Type'], predictions)\n",
    "    counter += 1"
   ]
  },
  {
   "cell_type": "code",
   "execution_count": 20,
   "metadata": {},
   "outputs": [
    {
     "data": {
      "text/plain": [
       "Text(0, 0.5, 'Accuracy')"
      ]
     },
     "execution_count": 20,
     "metadata": {},
     "output_type": "execute_result"
    },
    {
     "data": {
      "image/png": "[encoded data removed]",
      "text/plain": [
       "<Figure size 432x288 with 1 Axes>"
      ]
     },
     "metadata": {
      "needs_background": "light"
     },
     "output_type": "display_data"
    }
   ],
   "source": [
    "plt.plot(poss_k, acc_k, 'bo--')\n",
    "plt.title('Accuracy as a function of k')\n",
    "plt.xlabel('k')\n",
    "plt.ylabel('Accuracy')"
   ]
  },
  {
   "cell_type": "code",
   "execution_count": 21,
   "metadata": {},
   "outputs": [
    {
     "name": "stdout",
     "output_type": "stream",
     "text": [
      "I would choose k = 25 because it yields the highest accuracy for predicting the test data when trained with the training data.\n"
     ]
    }
   ],
   "source": [
    "print('I would choose k = 25 because it yields the highest accuracy for predicting the test data when trained with the training data.')"
   ]
  }
 ],
 "metadata": {
  "kernelspec": {
   "display_name": "Python 3",
   "language": "python",
   "name": "python3"
  },
  "language_info": {
   "codemirror_mode": {
    "name": "ipython",
    "version": 3
   },
   "file_extension": ".py",
   "mimetype": "text/x-python",
   "name": "python",
   "nbconvert_exporter": "python",
   "pygments_lexer": "ipython3",
   "version": "3.8.3"
  }
 },
 "nbformat": 4,
 "nbformat_minor": 4
}
