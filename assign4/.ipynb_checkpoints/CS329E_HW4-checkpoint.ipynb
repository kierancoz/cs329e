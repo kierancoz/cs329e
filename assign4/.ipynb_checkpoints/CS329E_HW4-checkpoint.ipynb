{
 "cells": [
  {
   "cell_type": "markdown",
   "metadata": {},
   "source": [
    "### C S 329E HW 4\n",
    "\n",
    "## Decision Tree Classifier\n",
    "\n",
    "## Kieran Cosgrove & Alec Biggerstaff\n",
    "\n",
    "For this weeks homework we are going to explore ideas around decision tree implementation!  \n",
    "\n",
    "We will implement some helper functions that would be necessary for a home-grown tree:\n",
    "  - calc_entropy\n",
    "  - calc_gini\n",
    "  \n",
    "and them test them out at given data splits. \n",
    "  \n",
    "And finally, to perform predictive and descriptive analytics we use the [Decision Tree Classifier](https://scikit-learn.org/stable/modules/tree.html#classification) class.\n",
    "\n",
    "  \n",
    "For this assignment, the stopping condition will be the depth of the tree. The impurity measure can be either `Entropy` or `Gini`\n",
    "\n",
    "To test our tree built from the Decision Tree Classifier class, we will revisit our Melbourne housing data (that has been cleaned and pruned) and use the files:\n",
    "\n",
    "   - `melb_tree_train.csv` for training the decision tree\n",
    "   - `melb_tree_test.csv` for testing the decision tree\n",
    "\n",
    "There are 10 features in these dataframes that we can use to describe and predict the housing \"Type\", which is 'h' house, 'u' duplex, or 't' townhome. "
   ]
  },
  {
   "cell_type": "code",
   "execution_count": 1,
   "metadata": {},
   "outputs": [],
   "source": [
    "# import the libraries!\n",
    "import pandas as pd\n",
    "import numpy as np\n",
    "import matplotlib.pyplot as plt\n",
    "%matplotlib inline\n",
    "from math import log2\n",
    "from sklearn import tree # Yes, you get to use scikit-learn this assignment, but only when I say!\n",
    "import graphviz"
   ]
  },
  {
   "cell_type": "markdown",
   "metadata": {},
   "source": [
    "## Q1 Load the Data\n",
    "Load in the melb_tree_train.csv into a dataframe, and split that dataframe into `df_X` containing the features of the data set (everything but `Type`), and `s_y`, the series containing just the label column (just `Type`)"
   ]
  },
  {
   "cell_type": "code",
   "execution_count": 2,
   "metadata": {},
   "outputs": [],
   "source": [
    "df = pd.read_csv(\"melb_tree_train.csv\")\n",
    "df_X = df.drop(\"Type\", axis=1)\n",
    "s_y = df[\"Type\"]"
   ]
  },
  {
   "cell_type": "markdown",
   "metadata": {},
   "source": [
    "## Q2 Define the entropy function\n",
    "Implement a function `calc_entropy` that takes the labels series, s_y, as a parameter. Implement using the definition on p128 in the DM book and only use pandas and log2 libraries"
   ]
  },
  {
   "cell_type": "code",
   "execution_count": 3,
   "metadata": {},
   "outputs": [],
   "source": [
    "def calc_entropy(s_y):\n",
    "    totals = s_y.value_counts()\n",
    "    entropy = 0\n",
    "    for total in totals:\n",
    "        prob = total/totals.sum()\n",
    "        entropy += -prob*log2(prob)\n",
    "    return entropy"
   ]
  },
  {
   "cell_type": "markdown",
   "metadata": {},
   "source": [
    "## Q3 Use the entropy function to\n",
    "  - (a) Calculate the entropy of the entire training set\n",
    "  - (b) Calculate the entropy of the three partitions formed from \n",
    "    * Landsize $\\in$ [0,200]\n",
    "    * Landsize $\\in$ (200,450]\n",
    "    * Landsize $\\in$ (450, $\\infty$)"
   ]
  },
  {
   "cell_type": "code",
   "execution_count": 4,
   "metadata": {},
   "outputs": [
    {
     "data": {
      "text/plain": [
       "1.5825333114261775"
      ]
     },
     "execution_count": 4,
     "metadata": {},
     "output_type": "execute_result"
    }
   ],
   "source": [
    "calc_entropy(s_y)"
   ]
  },
  {
   "cell_type": "code",
   "execution_count": 5,
   "metadata": {},
   "outputs": [
    {
     "data": {
      "text/plain": [
       "1.3456432116206725"
      ]
     },
     "execution_count": 5,
     "metadata": {},
     "output_type": "execute_result"
    }
   ],
   "source": [
    "calc_entropy(df[df[\"Landsize\"].any() and df[\"Landsize\"] <= 200][\"Type\"])"
   ]
  },
  {
   "cell_type": "code",
   "execution_count": 6,
   "metadata": {},
   "outputs": [
    {
     "data": {
      "text/plain": [
       "1.4613003850147297"
      ]
     },
     "execution_count": 6,
     "metadata": {},
     "output_type": "execute_result"
    }
   ],
   "source": [
    "calc_entropy(df[(df[\"Landsize\"] >= 200) & (df[\"Landsize\"] <= 450)][\"Type\"])"
   ]
  },
  {
   "cell_type": "code",
   "execution_count": 7,
   "metadata": {},
   "outputs": [
    {
     "data": {
      "text/plain": [
       "1.09954792005911"
      ]
     },
     "execution_count": 7,
     "metadata": {},
     "output_type": "execute_result"
    }
   ],
   "source": [
    "calc_entropy(df[(df[\"Landsize\"] >= 450)][\"Type\"])"
   ]
  },
  {
   "cell_type": "markdown",
   "metadata": {},
   "source": [
    "## Q4 Define the Gini Index\n",
    "Implement the function `calc_gini` that takes the labels series, s_y, as a parameter. Implement using the definition on p128 in the DM book.  Use only pandas library"
   ]
  },
  {
   "cell_type": "code",
   "execution_count": 8,
   "metadata": {},
   "outputs": [],
   "source": [
    "def calc_gini(s_y):\n",
    "    totals = s_y.value_counts()\n",
    "    gini = 0\n",
    "    for total in totals:\n",
    "        prob = total/totals.sum()\n",
    "        gini += prob**2\n",
    "    return 1 - gini"
   ]
  },
  {
   "cell_type": "markdown",
   "metadata": {},
   "source": [
    "## Q5 Use the Gini Index function to\n",
    "  - (a) Calculate the Gini index of the entire training set\n",
    "  - (b) Calculate the Gini index of the three partitions formed from \n",
    "    * Landsize $\\in$ [0,200]\n",
    "    * Landsize $\\in$ (200,450]\n",
    "    * Landsize $\\in$ (450, $\\infty$)"
   ]
  },
  {
   "cell_type": "code",
   "execution_count": 9,
   "metadata": {},
   "outputs": [
    {
     "data": {
      "text/plain": [
       "0.6655601280292638"
      ]
     },
     "execution_count": 9,
     "metadata": {},
     "output_type": "execute_result"
    }
   ],
   "source": [
    "calc_gini(s_y)"
   ]
  },
  {
   "cell_type": "code",
   "execution_count": 10,
   "metadata": {},
   "outputs": [
    {
     "data": {
      "text/plain": [
       "0.5741211482422965"
      ]
     },
     "execution_count": 10,
     "metadata": {},
     "output_type": "execute_result"
    }
   ],
   "source": [
    "calc_gini(df[df[\"Landsize\"].any() and df[\"Landsize\"] <= 200][\"Type\"])"
   ]
  },
  {
   "cell_type": "code",
   "execution_count": 11,
   "metadata": {},
   "outputs": [
    {
     "data": {
      "text/plain": [
       "0.6077339178346639"
      ]
     },
     "execution_count": 11,
     "metadata": {},
     "output_type": "execute_result"
    }
   ],
   "source": [
    "calc_gini(df[(df[\"Landsize\"] >= 200) & (df[\"Landsize\"] <= 450)][\"Type\"])"
   ]
  },
  {
   "cell_type": "code",
   "execution_count": 12,
   "metadata": {},
   "outputs": [
    {
     "data": {
      "text/plain": [
       "0.43819341715976323"
      ]
     },
     "execution_count": 12,
     "metadata": {},
     "output_type": "execute_result"
    }
   ],
   "source": [
    "calc_gini(df[(df[\"Landsize\"] >= 450)][\"Type\"])"
   ]
  },
  {
   "cell_type": "markdown",
   "metadata": {},
   "source": [
    "## Q6 Create a decision tree \n",
    "Using [scikit-learn](https://scikit-learn.org/stable/modules/tree.html#tree) create a multi class classifer for the data set using the Entropy impurity measure and a max depth of 3\n",
    "\n",
    "Note that scikit-learn's algorithm doesn't handle categorical data, so that needs to be preprocessed using an one hot encoding.\n",
    "\n",
    "Display the tree using `export_text` from sklearn.tree, and use that information to write some descriptive analytics on the classification of houses.  For extra fun, use the export_graphviz to draw the graph (see documentation on the [scikit-learn webpage](https://scikit-learn.org/stable/modules/tree.html#classification)).  If you are on a Windows system and get stuck reach out in the homework channel to see if anyone else could get it working for tips and tricks.  If enough people with Windows can't make the visualization, I won't count it toward the homework grade."
   ]
  },
  {
   "cell_type": "code",
   "execution_count": 13,
   "metadata": {},
   "outputs": [
    {
     "name": "stdout",
     "output_type": "stream",
     "text": [
      "|--- YearBuilt <= 1977.50\n",
      "|   |--- Rooms <= 2.50\n",
      "|   |   |--- Price <= 915000.00\n",
      "|   |   |   |--- class: u\n",
      "|   |   |--- Price >  915000.00\n",
      "|   |   |   |--- class: h\n",
      "|   |--- Rooms >  2.50\n",
      "|   |   |--- Landsize <= 429.00\n",
      "|   |   |   |--- class: h\n",
      "|   |   |--- Landsize >  429.00\n",
      "|   |   |   |--- class: h\n",
      "|--- YearBuilt >  1977.50\n",
      "|   |--- BuildingArea <= 104.31\n",
      "|   |   |--- Landsize <= 76.00\n",
      "|   |   |   |--- class: u\n",
      "|   |   |--- Landsize >  76.00\n",
      "|   |   |   |--- class: t\n",
      "|   |--- BuildingArea >  104.31\n",
      "|   |   |--- Landsize <= 391.00\n",
      "|   |   |   |--- class: t\n",
      "|   |   |--- Landsize >  391.00\n",
      "|   |   |   |--- class: h\n",
      "\n"
     ]
    }
   ],
   "source": [
    "type_cols = pd.get_dummies(df_X['CouncilArea'])\n",
    "for col_title in type_cols:\n",
    "    df_X[col_title] = type_cols[col_title]\n",
    "del df_X['CouncilArea']\n",
    "\n",
    "decision_tree = tree.DecisionTreeClassifier(criterion = 'entropy', max_depth = 3)\n",
    "decision_tree = decision_tree.fit(df_X, s_y)\n",
    "results = tree.export_text(decision_tree, feature_names = list(df_X.columns))\n",
    "print(results)"
   ]
  },
  {
   "cell_type": "code",
   "execution_count": 14,
   "metadata": {},
   "outputs": [
    {
     "data": {
      "image/svg+xml": [
       "<?xml version=\"1.0\" encoding=\"UTF-8\" standalone=\"no\"?>\n",
       "<!DOCTYPE svg PUBLIC \"-//W3C//DTD SVG 1.1//EN\"\n",
       " \"http://www.w3.org/Graphics/SVG/1.1/DTD/svg11.dtd\">\n",
       "<!-- Generated by graphviz version 2.40.1 (20161225.0304)\n",
       " -->\n",
       "<!-- Title: Tree Pages: 1 -->\n",
       "<svg width=\"1142pt\" height=\"373pt\"\n",
       " viewBox=\"0.00 0.00 1142.00 373.00\" xmlns=\"http://www.w3.org/2000/svg\" xmlns:xlink=\"http://www.w3.org/1999/xlink\">\n",
       "<g id=\"graph0\" class=\"graph\" transform=\"scale(1 1) rotate(0) translate(4 369)\">\n",
       "<title>Tree</title>\n",
       "<polygon fill=\"#ffffff\" stroke=\"transparent\" points=\"-4,4 -4,-369 1138,-369 1138,4 -4,4\"/>\n",
       "<!-- 0 -->\n",
       "<g id=\"node1\" class=\"node\">\n",
       "<title>0</title>\n",
       "<path fill=\"#ffffff\" stroke=\"#000000\" d=\"M610,-365C610,-365 479,-365 479,-365 473,-365 467,-359 467,-353 467,-353 467,-309 467,-309 467,-303 473,-297 479,-297 479,-297 610,-297 610,-297 616,-297 622,-303 622,-309 622,-309 622,-353 622,-353 622,-359 616,-365 610,-365\"/>\n",
       "<text text-anchor=\"start\" x=\"488.5\" y=\"-349.8\" font-family=\"Helvetica,sans-Serif\" font-size=\"14.00\" fill=\"#000000\">YearBuilt ≤ 1977.5</text>\n",
       "<text text-anchor=\"start\" x=\"497\" y=\"-334.8\" font-family=\"Helvetica,sans-Serif\" font-size=\"14.00\" fill=\"#000000\">entropy = 1.583</text>\n",
       "<text text-anchor=\"start\" x=\"499.5\" y=\"-319.8\" font-family=\"Helvetica,sans-Serif\" font-size=\"14.00\" fill=\"#000000\">samples = 810</text>\n",
       "<text text-anchor=\"start\" x=\"475\" y=\"-304.8\" font-family=\"Helvetica,sans-Serif\" font-size=\"14.00\" fill=\"#000000\">value = [248, 281, 281]</text>\n",
       "</g>\n",
       "<!-- 1 -->\n",
       "<g id=\"node2\" class=\"node\">\n",
       "<title>1</title>\n",
       "<path fill=\"#fae7da\" stroke=\"#000000\" d=\"M471,-261C471,-261 348,-261 348,-261 342,-261 336,-255 336,-249 336,-249 336,-205 336,-205 336,-199 342,-193 348,-193 348,-193 471,-193 471,-193 477,-193 483,-199 483,-205 483,-205 483,-249 483,-249 483,-255 477,-261 471,-261\"/>\n",
       "<text text-anchor=\"start\" x=\"370\" y=\"-245.8\" font-family=\"Helvetica,sans-Serif\" font-size=\"14.00\" fill=\"#000000\">Rooms ≤ 2.5</text>\n",
       "<text text-anchor=\"start\" x=\"362\" y=\"-230.8\" font-family=\"Helvetica,sans-Serif\" font-size=\"14.00\" fill=\"#000000\">entropy = 1.264</text>\n",
       "<text text-anchor=\"start\" x=\"364.5\" y=\"-215.8\" font-family=\"Helvetica,sans-Serif\" font-size=\"14.00\" fill=\"#000000\">samples = 370</text>\n",
       "<text text-anchor=\"start\" x=\"344\" y=\"-200.8\" font-family=\"Helvetica,sans-Serif\" font-size=\"14.00\" fill=\"#000000\">value = [194, 23, 153]</text>\n",
       "</g>\n",
       "<!-- 0&#45;&gt;1 -->\n",
       "<g id=\"edge1\" class=\"edge\">\n",
       "<title>0&#45;&gt;1</title>\n",
       "<path fill=\"none\" stroke=\"#000000\" d=\"M500.296,-296.9465C488.0584,-287.519 474.6564,-277.1946 461.9962,-267.4415\"/>\n",
       "<polygon fill=\"#000000\" stroke=\"#000000\" points=\"463.8612,-264.4601 453.8034,-261.13 459.5893,-270.0055 463.8612,-264.4601\"/>\n",
       "<text text-anchor=\"middle\" x=\"457.0191\" y=\"-282.2223\" font-family=\"Helvetica,sans-Serif\" font-size=\"14.00\" fill=\"#000000\">True</text>\n",
       "</g>\n",
       "<!-- 8 -->\n",
       "<g id=\"node9\" class=\"node\">\n",
       "<title>8</title>\n",
       "<path fill=\"#adf4ca\" stroke=\"#000000\" d=\"M766.5,-261C766.5,-261 632.5,-261 632.5,-261 626.5,-261 620.5,-255 620.5,-249 620.5,-249 620.5,-205 620.5,-205 620.5,-199 626.5,-193 632.5,-193 632.5,-193 766.5,-193 766.5,-193 772.5,-193 778.5,-199 778.5,-205 778.5,-205 778.5,-249 778.5,-249 778.5,-255 772.5,-261 766.5,-261\"/>\n",
       "<text text-anchor=\"start\" x=\"628.5\" y=\"-245.8\" font-family=\"Helvetica,sans-Serif\" font-size=\"14.00\" fill=\"#000000\">BuildingArea ≤ 104.315</text>\n",
       "<text text-anchor=\"start\" x=\"652\" y=\"-230.8\" font-family=\"Helvetica,sans-Serif\" font-size=\"14.00\" fill=\"#000000\">entropy = 1.341</text>\n",
       "<text text-anchor=\"start\" x=\"654.5\" y=\"-215.8\" font-family=\"Helvetica,sans-Serif\" font-size=\"14.00\" fill=\"#000000\">samples = 440</text>\n",
       "<text text-anchor=\"start\" x=\"634\" y=\"-200.8\" font-family=\"Helvetica,sans-Serif\" font-size=\"14.00\" fill=\"#000000\">value = [54, 258, 128]</text>\n",
       "</g>\n",
       "<!-- 0&#45;&gt;8 -->\n",
       "<g id=\"edge8\" class=\"edge\">\n",
       "<title>0&#45;&gt;8</title>\n",
       "<path fill=\"none\" stroke=\"#000000\" d=\"M595.2528,-296.9465C609.571,-287.3395 625.2775,-276.8009 640.0563,-266.8848\"/>\n",
       "<polygon fill=\"#000000\" stroke=\"#000000\" points=\"642.2793,-269.6081 648.6332,-261.13 638.3791,-263.7953 642.2793,-269.6081\"/>\n",
       "<text text-anchor=\"middle\" x=\"643.8031\" y=\"-281.959\" font-family=\"Helvetica,sans-Serif\" font-size=\"14.00\" fill=\"#000000\">False</text>\n",
       "</g>\n",
       "<!-- 2 -->\n",
       "<g id=\"node3\" class=\"node\">\n",
       "<title>2</title>\n",
       "<path fill=\"#a572ed\" stroke=\"#000000\" d=\"M259.5,-157C259.5,-157 143.5,-157 143.5,-157 137.5,-157 131.5,-151 131.5,-145 131.5,-145 131.5,-101 131.5,-101 131.5,-95 137.5,-89 143.5,-89 143.5,-89 259.5,-89 259.5,-89 265.5,-89 271.5,-95 271.5,-101 271.5,-101 271.5,-145 271.5,-145 271.5,-151 265.5,-157 259.5,-157\"/>\n",
       "<text text-anchor=\"start\" x=\"150\" y=\"-141.8\" font-family=\"Helvetica,sans-Serif\" font-size=\"14.00\" fill=\"#000000\">Price ≤ 915000.0</text>\n",
       "<text text-anchor=\"start\" x=\"154\" y=\"-126.8\" font-family=\"Helvetica,sans-Serif\" font-size=\"14.00\" fill=\"#000000\">entropy = 0.974</text>\n",
       "<text text-anchor=\"start\" x=\"156.5\" y=\"-111.8\" font-family=\"Helvetica,sans-Serif\" font-size=\"14.00\" fill=\"#000000\">samples = 182</text>\n",
       "<text text-anchor=\"start\" x=\"139.5\" y=\"-96.8\" font-family=\"Helvetica,sans-Serif\" font-size=\"14.00\" fill=\"#000000\">value = [33, 10, 139]</text>\n",
       "</g>\n",
       "<!-- 1&#45;&gt;2 -->\n",
       "<g id=\"edge2\" class=\"edge\">\n",
       "<title>1&#45;&gt;2</title>\n",
       "<path fill=\"none\" stroke=\"#000000\" d=\"M341.393,-192.9465C321.3709,-182.9354 299.3257,-171.9129 278.7742,-161.6371\"/>\n",
       "<polygon fill=\"#000000\" stroke=\"#000000\" points=\"280.2695,-158.4717 269.76,-157.13 277.139,-164.7327 280.2695,-158.4717\"/>\n",
       "</g>\n",
       "<!-- 5 -->\n",
       "<g id=\"node6\" class=\"node\">\n",
       "<title>5</title>\n",
       "<path fill=\"#e99558\" stroke=\"#000000\" d=\"M467.5,-157C467.5,-157 351.5,-157 351.5,-157 345.5,-157 339.5,-151 339.5,-145 339.5,-145 339.5,-101 339.5,-101 339.5,-95 345.5,-89 351.5,-89 351.5,-89 467.5,-89 467.5,-89 473.5,-89 479.5,-95 479.5,-101 479.5,-101 479.5,-145 479.5,-145 479.5,-151 473.5,-157 467.5,-157\"/>\n",
       "<text text-anchor=\"start\" x=\"357.5\" y=\"-141.8\" font-family=\"Helvetica,sans-Serif\" font-size=\"14.00\" fill=\"#000000\">Landsize ≤ 429.0</text>\n",
       "<text text-anchor=\"start\" x=\"362\" y=\"-126.8\" font-family=\"Helvetica,sans-Serif\" font-size=\"14.00\" fill=\"#000000\">entropy = 0.737</text>\n",
       "<text text-anchor=\"start\" x=\"364.5\" y=\"-111.8\" font-family=\"Helvetica,sans-Serif\" font-size=\"14.00\" fill=\"#000000\">samples = 188</text>\n",
       "<text text-anchor=\"start\" x=\"347.5\" y=\"-96.8\" font-family=\"Helvetica,sans-Serif\" font-size=\"14.00\" fill=\"#000000\">value = [161, 13, 14]</text>\n",
       "</g>\n",
       "<!-- 1&#45;&gt;5 -->\n",
       "<g id=\"edge5\" class=\"edge\">\n",
       "<title>1&#45;&gt;5</title>\n",
       "<path fill=\"none\" stroke=\"#000000\" d=\"M409.5,-192.9465C409.5,-184.776 409.5,-175.9318 409.5,-167.3697\"/>\n",
       "<polygon fill=\"#000000\" stroke=\"#000000\" points=\"413.0001,-167.13 409.5,-157.13 406.0001,-167.13 413.0001,-167.13\"/>\n",
       "</g>\n",
       "<!-- 3 -->\n",
       "<g id=\"node4\" class=\"node\">\n",
       "<title>3</title>\n",
       "<path fill=\"#8f4fe8\" stroke=\"#000000\" d=\"M113,-53C113,-53 12,-53 12,-53 6,-53 0,-47 0,-41 0,-41 0,-12 0,-12 0,-6 6,0 12,0 12,0 113,0 113,0 119,0 125,-6 125,-12 125,-12 125,-41 125,-41 125,-47 119,-53 113,-53\"/>\n",
       "<text text-anchor=\"start\" x=\"15\" y=\"-37.8\" font-family=\"Helvetica,sans-Serif\" font-size=\"14.00\" fill=\"#000000\">entropy = 0.595</text>\n",
       "<text text-anchor=\"start\" x=\"17.5\" y=\"-22.8\" font-family=\"Helvetica,sans-Serif\" font-size=\"14.00\" fill=\"#000000\">samples = 150</text>\n",
       "<text text-anchor=\"start\" x=\"8\" y=\"-7.8\" font-family=\"Helvetica,sans-Serif\" font-size=\"14.00\" fill=\"#000000\">value = [9, 7, 134]</text>\n",
       "</g>\n",
       "<!-- 2&#45;&gt;3 -->\n",
       "<g id=\"edge3\" class=\"edge\">\n",
       "<title>2&#45;&gt;3</title>\n",
       "<path fill=\"none\" stroke=\"#000000\" d=\"M152.4938,-88.9777C138.5126,-79.2713 123.3162,-68.7213 109.4602,-59.1018\"/>\n",
       "<polygon fill=\"#000000\" stroke=\"#000000\" points=\"111.2394,-56.0763 101.0289,-53.2485 107.2474,-61.8264 111.2394,-56.0763\"/>\n",
       "</g>\n",
       "<!-- 4 -->\n",
       "<g id=\"node5\" class=\"node\">\n",
       "<title>4</title>\n",
       "<path fill=\"#eda674\" stroke=\"#000000\" d=\"M248,-53C248,-53 155,-53 155,-53 149,-53 143,-47 143,-41 143,-41 143,-12 143,-12 143,-6 149,0 155,0 155,0 248,0 248,0 254,0 260,-6 260,-12 260,-12 260,-41 260,-41 260,-47 254,-53 248,-53\"/>\n",
       "<text text-anchor=\"start\" x=\"157.5\" y=\"-37.8\" font-family=\"Helvetica,sans-Serif\" font-size=\"14.00\" fill=\"#000000\">entropy = 1.05</text>\n",
       "<text text-anchor=\"start\" x=\"160.5\" y=\"-22.8\" font-family=\"Helvetica,sans-Serif\" font-size=\"14.00\" fill=\"#000000\">samples = 32</text>\n",
       "<text text-anchor=\"start\" x=\"151\" y=\"-7.8\" font-family=\"Helvetica,sans-Serif\" font-size=\"14.00\" fill=\"#000000\">value = [24, 3, 5]</text>\n",
       "</g>\n",
       "<!-- 2&#45;&gt;4 -->\n",
       "<g id=\"edge4\" class=\"edge\">\n",
       "<title>2&#45;&gt;4</title>\n",
       "<path fill=\"none\" stroke=\"#000000\" d=\"M201.5,-88.9777C201.5,-80.7364 201.5,-71.887 201.5,-63.5153\"/>\n",
       "<polygon fill=\"#000000\" stroke=\"#000000\" points=\"205.0001,-63.2484 201.5,-53.2485 198.0001,-63.2485 205.0001,-63.2484\"/>\n",
       "</g>\n",
       "<!-- 6 -->\n",
       "<g id=\"node7\" class=\"node\">\n",
       "<title>6</title>\n",
       "<path fill=\"#efb285\" stroke=\"#000000\" d=\"M398.5,-53C398.5,-53 290.5,-53 290.5,-53 284.5,-53 278.5,-47 278.5,-41 278.5,-41 278.5,-12 278.5,-12 278.5,-6 284.5,0 290.5,0 290.5,0 398.5,0 398.5,0 404.5,0 410.5,-6 410.5,-12 410.5,-12 410.5,-41 410.5,-41 410.5,-47 404.5,-53 398.5,-53\"/>\n",
       "<text text-anchor=\"start\" x=\"300.5\" y=\"-37.8\" font-family=\"Helvetica,sans-Serif\" font-size=\"14.00\" fill=\"#000000\">entropy = 1.22</text>\n",
       "<text text-anchor=\"start\" x=\"303.5\" y=\"-22.8\" font-family=\"Helvetica,sans-Serif\" font-size=\"14.00\" fill=\"#000000\">samples = 69</text>\n",
       "<text text-anchor=\"start\" x=\"286.5\" y=\"-7.8\" font-family=\"Helvetica,sans-Serif\" font-size=\"14.00\" fill=\"#000000\">value = [47, 10, 12]</text>\n",
       "</g>\n",
       "<!-- 5&#45;&gt;6 -->\n",
       "<g id=\"edge6\" class=\"edge\">\n",
       "<title>5&#45;&gt;6</title>\n",
       "<path fill=\"none\" stroke=\"#000000\" d=\"M386.5834,-88.9777C380.6006,-80.0954 374.1418,-70.5067 368.123,-61.5711\"/>\n",
       "<polygon fill=\"#000000\" stroke=\"#000000\" points=\"371.0067,-59.5871 362.5171,-53.2485 365.2009,-63.4978 371.0067,-59.5871\"/>\n",
       "</g>\n",
       "<!-- 7 -->\n",
       "<g id=\"node8\" class=\"node\">\n",
       "<title>7</title>\n",
       "<path fill=\"#e68642\" stroke=\"#000000\" d=\"M542,-53C542,-53 441,-53 441,-53 435,-53 429,-47 429,-41 429,-41 429,-12 429,-12 429,-6 435,0 441,0 441,0 542,0 542,0 548,0 554,-6 554,-12 554,-12 554,-41 554,-41 554,-47 548,-53 542,-53\"/>\n",
       "<text text-anchor=\"start\" x=\"444\" y=\"-37.8\" font-family=\"Helvetica,sans-Serif\" font-size=\"14.00\" fill=\"#000000\">entropy = 0.292</text>\n",
       "<text text-anchor=\"start\" x=\"446.5\" y=\"-22.8\" font-family=\"Helvetica,sans-Serif\" font-size=\"14.00\" fill=\"#000000\">samples = 119</text>\n",
       "<text text-anchor=\"start\" x=\"437\" y=\"-7.8\" font-family=\"Helvetica,sans-Serif\" font-size=\"14.00\" fill=\"#000000\">value = [114, 3, 2]</text>\n",
       "</g>\n",
       "<!-- 5&#45;&gt;7 -->\n",
       "<g id=\"edge7\" class=\"edge\">\n",
       "<title>5&#45;&gt;7</title>\n",
       "<path fill=\"none\" stroke=\"#000000\" d=\"M438.4101,-88.9777C446.1134,-79.9123 454.4419,-70.111 462.1676,-61.0192\"/>\n",
       "<polygon fill=\"#000000\" stroke=\"#000000\" points=\"464.9625,-63.1352 468.7707,-53.2485 459.6282,-58.6025 464.9625,-63.1352\"/>\n",
       "</g>\n",
       "<!-- 9 -->\n",
       "<g id=\"node10\" class=\"node\">\n",
       "<title>9</title>\n",
       "<path fill=\"#c8a8f4\" stroke=\"#000000\" d=\"M750,-157C750,-157 649,-157 649,-157 643,-157 637,-151 637,-145 637,-145 637,-101 637,-101 637,-95 643,-89 649,-89 649,-89 750,-89 750,-89 756,-89 762,-95 762,-101 762,-101 762,-145 762,-145 762,-151 756,-157 750,-157\"/>\n",
       "<text text-anchor=\"start\" x=\"651\" y=\"-141.8\" font-family=\"Helvetica,sans-Serif\" font-size=\"14.00\" fill=\"#000000\">Landsize ≤ 76.0</text>\n",
       "<text text-anchor=\"start\" x=\"652\" y=\"-126.8\" font-family=\"Helvetica,sans-Serif\" font-size=\"14.00\" fill=\"#000000\">entropy = 1.118</text>\n",
       "<text text-anchor=\"start\" x=\"654.5\" y=\"-111.8\" font-family=\"Helvetica,sans-Serif\" font-size=\"14.00\" fill=\"#000000\">samples = 145</text>\n",
       "<text text-anchor=\"start\" x=\"645\" y=\"-96.8\" font-family=\"Helvetica,sans-Serif\" font-size=\"14.00\" fill=\"#000000\">value = [5, 49, 91]</text>\n",
       "</g>\n",
       "<!-- 8&#45;&gt;9 -->\n",
       "<g id=\"edge9\" class=\"edge\">\n",
       "<title>8&#45;&gt;9</title>\n",
       "<path fill=\"none\" stroke=\"#000000\" d=\"M699.5,-192.9465C699.5,-184.776 699.5,-175.9318 699.5,-167.3697\"/>\n",
       "<polygon fill=\"#000000\" stroke=\"#000000\" points=\"703.0001,-167.13 699.5,-157.13 696.0001,-167.13 703.0001,-167.13\"/>\n",
       "</g>\n",
       "<!-- 12 -->\n",
       "<g id=\"node13\" class=\"node\">\n",
       "<title>12</title>\n",
       "<path fill=\"#7eeead\" stroke=\"#000000\" d=\"M978.5,-157C978.5,-157 862.5,-157 862.5,-157 856.5,-157 850.5,-151 850.5,-145 850.5,-145 850.5,-101 850.5,-101 850.5,-95 856.5,-89 862.5,-89 862.5,-89 978.5,-89 978.5,-89 984.5,-89 990.5,-95 990.5,-101 990.5,-101 990.5,-145 990.5,-145 990.5,-151 984.5,-157 978.5,-157\"/>\n",
       "<text text-anchor=\"start\" x=\"868.5\" y=\"-141.8\" font-family=\"Helvetica,sans-Serif\" font-size=\"14.00\" fill=\"#000000\">Landsize ≤ 391.0</text>\n",
       "<text text-anchor=\"start\" x=\"873\" y=\"-126.8\" font-family=\"Helvetica,sans-Serif\" font-size=\"14.00\" fill=\"#000000\">entropy = 1.158</text>\n",
       "<text text-anchor=\"start\" x=\"875.5\" y=\"-111.8\" font-family=\"Helvetica,sans-Serif\" font-size=\"14.00\" fill=\"#000000\">samples = 295</text>\n",
       "<text text-anchor=\"start\" x=\"858.5\" y=\"-96.8\" font-family=\"Helvetica,sans-Serif\" font-size=\"14.00\" fill=\"#000000\">value = [49, 209, 37]</text>\n",
       "</g>\n",
       "<!-- 8&#45;&gt;12 -->\n",
       "<g id=\"edge12\" class=\"edge\">\n",
       "<title>8&#45;&gt;12</title>\n",
       "<path fill=\"none\" stroke=\"#000000\" d=\"M771.8637,-192.9465C793.9918,-182.5333 818.4456,-171.0256 841.0199,-160.4024\"/>\n",
       "<polygon fill=\"#000000\" stroke=\"#000000\" points=\"842.6747,-163.4919 850.2326,-156.067 839.6941,-157.1582 842.6747,-163.4919\"/>\n",
       "</g>\n",
       "<!-- 10 -->\n",
       "<g id=\"node11\" class=\"node\">\n",
       "<title>10</title>\n",
       "<path fill=\"#9253e8\" stroke=\"#000000\" d=\"M677,-53C677,-53 584,-53 584,-53 578,-53 572,-47 572,-41 572,-41 572,-12 572,-12 572,-6 578,0 584,0 584,0 677,0 677,0 683,0 689,-6 689,-12 689,-12 689,-41 689,-41 689,-47 683,-53 677,-53\"/>\n",
       "<text text-anchor=\"start\" x=\"583\" y=\"-37.8\" font-family=\"Helvetica,sans-Serif\" font-size=\"14.00\" fill=\"#000000\">entropy = 0.523</text>\n",
       "<text text-anchor=\"start\" x=\"589.5\" y=\"-22.8\" font-family=\"Helvetica,sans-Serif\" font-size=\"14.00\" fill=\"#000000\">samples = 68</text>\n",
       "<text text-anchor=\"start\" x=\"580\" y=\"-7.8\" font-family=\"Helvetica,sans-Serif\" font-size=\"14.00\" fill=\"#000000\">value = [0, 8, 60]</text>\n",
       "</g>\n",
       "<!-- 9&#45;&gt;10 -->\n",
       "<g id=\"edge10\" class=\"edge\">\n",
       "<title>9&#45;&gt;10</title>\n",
       "<path fill=\"none\" stroke=\"#000000\" d=\"M675.1732,-88.9777C668.8221,-80.0954 661.966,-70.5067 655.5768,-61.5711\"/>\n",
       "<polygon fill=\"#000000\" stroke=\"#000000\" points=\"658.2893,-59.3472 649.6259,-53.2485 652.5952,-63.4187 658.2893,-59.3472\"/>\n",
       "</g>\n",
       "<!-- 11 -->\n",
       "<g id=\"node12\" class=\"node\">\n",
       "<title>11</title>\n",
       "<path fill=\"#d4f9e4\" stroke=\"#000000\" d=\"M820,-53C820,-53 719,-53 719,-53 713,-53 707,-47 707,-41 707,-41 707,-12 707,-12 707,-6 713,0 719,0 719,0 820,0 820,0 826,0 832,-6 832,-12 832,-12 832,-41 832,-41 832,-47 826,-53 820,-53\"/>\n",
       "<text text-anchor=\"start\" x=\"722\" y=\"-37.8\" font-family=\"Helvetica,sans-Serif\" font-size=\"14.00\" fill=\"#000000\">entropy = 1.269</text>\n",
       "<text text-anchor=\"start\" x=\"728.5\" y=\"-22.8\" font-family=\"Helvetica,sans-Serif\" font-size=\"14.00\" fill=\"#000000\">samples = 77</text>\n",
       "<text text-anchor=\"start\" x=\"715\" y=\"-7.8\" font-family=\"Helvetica,sans-Serif\" font-size=\"14.00\" fill=\"#000000\">value = [5, 41, 31]</text>\n",
       "</g>\n",
       "<!-- 9&#45;&gt;11 -->\n",
       "<g id=\"edge11\" class=\"edge\">\n",
       "<title>9&#45;&gt;11</title>\n",
       "<path fill=\"none\" stroke=\"#000000\" d=\"M724.1794,-88.9777C730.6225,-80.0954 737.578,-70.5067 744.0598,-61.5711\"/>\n",
       "<polygon fill=\"#000000\" stroke=\"#000000\" points=\"747.0583,-63.3982 750.097,-53.2485 741.3921,-59.288 747.0583,-63.3982\"/>\n",
       "</g>\n",
       "<!-- 13 -->\n",
       "<g id=\"node14\" class=\"node\">\n",
       "<title>13</title>\n",
       "<path fill=\"#69eb9f\" stroke=\"#000000\" d=\"M978.5,-53C978.5,-53 862.5,-53 862.5,-53 856.5,-53 850.5,-47 850.5,-41 850.5,-41 850.5,-12 850.5,-12 850.5,-6 856.5,0 862.5,0 862.5,0 978.5,0 978.5,0 984.5,0 990.5,-6 990.5,-12 990.5,-12 990.5,-41 990.5,-41 990.5,-47 984.5,-53 978.5,-53\"/>\n",
       "<text text-anchor=\"start\" x=\"873\" y=\"-37.8\" font-family=\"Helvetica,sans-Serif\" font-size=\"14.00\" fill=\"#000000\">entropy = 0.933</text>\n",
       "<text text-anchor=\"start\" x=\"875.5\" y=\"-22.8\" font-family=\"Helvetica,sans-Serif\" font-size=\"14.00\" fill=\"#000000\">samples = 245</text>\n",
       "<text text-anchor=\"start\" x=\"858.5\" y=\"-7.8\" font-family=\"Helvetica,sans-Serif\" font-size=\"14.00\" fill=\"#000000\">value = [18, 194, 33]</text>\n",
       "</g>\n",
       "<!-- 12&#45;&gt;13 -->\n",
       "<g id=\"edge13\" class=\"edge\">\n",
       "<title>12&#45;&gt;13</title>\n",
       "<path fill=\"none\" stroke=\"#000000\" d=\"M920.5,-88.9777C920.5,-80.7364 920.5,-71.887 920.5,-63.5153\"/>\n",
       "<polygon fill=\"#000000\" stroke=\"#000000\" points=\"924.0001,-63.2484 920.5,-53.2485 917.0001,-63.2485 924.0001,-63.2484\"/>\n",
       "</g>\n",
       "<!-- 14 -->\n",
       "<g id=\"node15\" class=\"node\">\n",
       "<title>14</title>\n",
       "<path fill=\"#f3c5a4\" stroke=\"#000000\" d=\"M1122,-53C1122,-53 1021,-53 1021,-53 1015,-53 1009,-47 1009,-41 1009,-41 1009,-12 1009,-12 1009,-6 1015,0 1021,0 1021,0 1122,0 1122,0 1128,0 1134,-6 1134,-12 1134,-12 1134,-41 1134,-41 1134,-47 1128,-53 1122,-53\"/>\n",
       "<text text-anchor=\"start\" x=\"1027.5\" y=\"-37.8\" font-family=\"Helvetica,sans-Serif\" font-size=\"14.00\" fill=\"#000000\">entropy = 1.24</text>\n",
       "<text text-anchor=\"start\" x=\"1030.5\" y=\"-22.8\" font-family=\"Helvetica,sans-Serif\" font-size=\"14.00\" fill=\"#000000\">samples = 50</text>\n",
       "<text text-anchor=\"start\" x=\"1017\" y=\"-7.8\" font-family=\"Helvetica,sans-Serif\" font-size=\"14.00\" fill=\"#000000\">value = [31, 15, 4]</text>\n",
       "</g>\n",
       "<!-- 12&#45;&gt;14 -->\n",
       "<g id=\"edge14\" class=\"edge\">\n",
       "<title>12&#45;&gt;14</title>\n",
       "<path fill=\"none\" stroke=\"#000000\" d=\"M973.737,-88.9777C989.0685,-79.1798 1005.7451,-68.5222 1020.9113,-58.8298\"/>\n",
       "<polygon fill=\"#000000\" stroke=\"#000000\" points=\"1023.1034,-61.5827 1029.6449,-53.2485 1019.3338,-55.6843 1023.1034,-61.5827\"/>\n",
       "</g>\n",
       "</g>\n",
       "</svg>\n"
      ],
      "text/plain": [
       "<graphviz.files.Source at 0x7f3355603760>"
      ]
     },
     "execution_count": 14,
     "metadata": {},
     "output_type": "execute_result"
    }
   ],
   "source": [
    "names = list(df_X)\n",
    "dot_data = tree.export_graphviz(decision_tree, out_file=None, \n",
    "                                feature_names=names, \n",
    "                                filled=True, \n",
    "                                rounded=True, \n",
    "                                special_characters=True)\n",
    "graph = graphviz.Source(dot_data)\n",
    "graph"
   ]
  },
  {
   "cell_type": "code",
   "execution_count": null,
   "metadata": {},
   "outputs": [],
   "source": []
  },
  {
   "cell_type": "markdown",
   "metadata": {},
   "source": [
    "Markdown explaination here"
   ]
  },
  {
   "cell_type": "markdown",
   "metadata": {},
   "source": [
    "## Q7 Calculate the Accuracy and Display Learning Curve\n",
    "Load in the test data.\n",
    "\n",
    "Use the scikit-learn library to create decision trees with the following configurations\n",
    "\n",
    "    - Vary the max depth from 2 to 15 with the Gini Index as the impurity measure\n",
    "    - Vary the max depth from 2 to 15 with the Entropy as the impurity measure\n",
    "\n",
    "\n",
    "Evaluate the accuracy of each decision tree with both the \n",
    "  - Training set\n",
    "  - Test set\n",
    "\n",
    "Display the results graphicaly, and offer an analysis of the trend (or if no trend present, offer a hypotheisis of why).  The max depth should be on the x-axis, and the error rate should be on the y-axis (see figure 3.23 in your DM textbook for a similar style of graph that uses leaf nodes instead of depth for the x-axis)."
   ]
  },
  {
   "cell_type": "code",
   "execution_count": 22,
   "metadata": {},
   "outputs": [],
   "source": [
    "df2 = pd.read_csv(\"melb_tree_test.csv\")\n",
    "type_cols = pd.get_dummies(df2['CouncilArea'])\n",
    "for col_title in type_cols:\n",
    "    df2[col_title] = type_cols[col_title]\n",
    "del df2['CouncilArea']\n",
    "df_test = df2.drop('Type', axis = 1)\n",
    "\n",
    "def accuracy(actual, predicted):\n",
    "    count = 0\n",
    "    for index, value in enumerate(predicted):\n",
    "        if value == actual[index]:\n",
    "            count += 1\n",
    "    return count / len(actual)"
   ]
  },
  {
   "cell_type": "code",
   "execution_count": 32,
   "metadata": {},
   "outputs": [
    {
     "data": {
      "image/png": "[encoded data removed]",
      "text/plain": [
       "<Figure size 432x288 with 1 Axes>"
      ]
     },
     "metadata": {
      "needs_background": "light"
     },
     "output_type": "display_data"
    }
   ],
   "source": [
    "for criteria in ['gini', 'entropy']:\n",
    "    depths = range(2, 16)\n",
    "    train_accuracies = []\n",
    "    test_accuracies = []\n",
    "    \n",
    "    for depth in depths:\n",
    "        train = tree.DecisionTreeClassifier(criterion = criteria, max_depth = depth)\n",
    "        train = train.fit(df_X, s_y)\n",
    "        \n",
    "        train_predict = train.predict(df_X)\n",
    "        test_predict = train.predict(df_test)\n",
    "        \n",
    "        train_accuracies.append(accuracy(s_y, train_predict))\n",
    "        test_accuracies.append(accuracy(df2['Type'], test_predict))\n",
    "        \n",
    "    plt.plot(depths, train_accuracies)\n",
    "    plt.plot(depths, test_accuracies)\n",
    "    \n",
    "plt.title(\"Accuracy vs Depth\")\n",
    "plt.xlabel(\"Depth\")\n",
    "plt.ylabel(\"Accuracy\")\n",
    "plt.legend([\"Gini Train\", \"Gini Test\", \"Entropy Train\", \"Entropy Test\"])\n",
    "plt.show()    "
   ]
  },
  {
   "cell_type": "code",
   "execution_count": 34,
   "metadata": {},
   "outputs": [],
   "source": [
    "# Training accuracy is going to be greater than Testing accuracy\n",
    "# As Depth increases, although the Training increases in accuracy,\n",
    "#    the data becomes overfitted for the Testing data and becomes less accurate past a depth of 3 to 4\n",
    "# Gini/Entropy criterions accuracies are closer together for Training than for Testing\n",
    "#    but for Testing their accuracies are still within 4%"
   ]
  }
 ],
 "metadata": {
  "kernelspec": {
   "display_name": "Python 3",
   "language": "python",
   "name": "python3"
  },
  "language_info": {
   "codemirror_mode": {
    "name": "ipython",
    "version": 3
   },
   "file_extension": ".py",
   "mimetype": "text/x-python",
   "name": "python",
   "nbconvert_exporter": "python",
   "pygments_lexer": "ipython3",
   "version": "3.8.3"
  }
 },
 "nbformat": 4,
 "nbformat_minor": 4
}
