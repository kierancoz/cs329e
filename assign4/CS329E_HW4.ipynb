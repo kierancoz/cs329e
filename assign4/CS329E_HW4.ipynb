{
 "cells": [
  {
   "cell_type": "markdown",
   "metadata": {},
   "source": [
    "### C S 329E HW 4\n",
    "\n",
    "## Decision Tree Classifier\n",
    "\n",
    "## Kieran Cosgrove & Alec Biggerstaff\n",
    "\n",
    "For this weeks homework we are going to explore ideas around decision tree implementation!  \n",
    "\n",
    "We will implement some helper functions that would be necessary for a home-grown tree:\n",
    "  - calc_entropy\n",
    "  - calc_gini\n",
    "  \n",
    "and them test them out at given data splits. \n",
    "  \n",
    "And finally, to perform predictive and descriptive analytics we use the [Decision Tree Classifier](https://scikit-learn.org/stable/modules/tree.html#classification) class.\n",
    "\n",
    "  \n",
    "For this assignment, the stopping condition will be the depth of the tree. The impurity measure can be either `Entropy` or `Gini`\n",
    "\n",
    "To test our tree built from the Decision Tree Classifier class, we will revisit our Melbourne housing data (that has been cleaned and pruned) and use the files:\n",
    "\n",
    "   - `melb_tree_train.csv` for training the decision tree\n",
    "   - `melb_tree_test.csv` for testing the decision tree\n",
    "\n",
    "There are 10 features in these dataframes that we can use to describe and predict the housing \"Type\", which is 'h' house, 'u' duplex, or 't' townhome. "
   ]
  },
  {
   "cell_type": "code",
   "execution_count": 1,
   "metadata": {},
   "outputs": [],
   "source": [
    "# import the libraries!\n",
    "import pandas as pd\n",
    "import numpy as np\n",
    "import matplotlib.pyplot as plt\n",
    "%matplotlib inline\n",
    "from math import log2\n",
    "from sklearn import tree # Yes, you get to use scikit-learn this assignment, but only when I say!\n",
    "import graphviz"
   ]
  },
  {
   "cell_type": "markdown",
   "metadata": {},
   "source": [
    "## Q1 Load the Data\n",
    "Load in the melb_tree_train.csv into a dataframe, and split that dataframe into `df_X` containing the features of the data set (everything but `Type`), and `s_y`, the series containing just the label column (just `Type`)"
   ]
  },
  {
   "cell_type": "code",
   "execution_count": 2,
   "metadata": {},
   "outputs": [],
   "source": [
    "df = pd.read_csv(\"melb_tree_train.csv\")\n",
    "df_X = df.drop(\"Type\", axis=1)\n",
    "s_y = df[\"Type\"]"
   ]
  },
  {
   "cell_type": "markdown",
   "metadata": {},
   "source": [
    "## Q2 Define the entropy function\n",
    "Implement a function `calc_entropy` that takes the labels series, s_y, as a parameter. Implement using the definition on p128 in the DM book and only use pandas and log2 libraries"
   ]
  },
  {
   "cell_type": "code",
   "execution_count": 3,
   "metadata": {},
   "outputs": [],
   "source": [
    "def calc_entropy(s_y):\n",
    "    totals = s_y.value_counts()\n",
    "    entropy = 0\n",
    "    for total in totals:\n",
    "        prob = total/totals.sum()\n",
    "        entropy += -prob*log2(prob)\n",
    "    return entropy"
   ]
  },
  {
   "cell_type": "markdown",
   "metadata": {},
   "source": [
    "## Q3 Use the entropy function to\n",
    "  - (a) Calculate the entropy of the entire training set\n",
    "  - (b) Calculate the entropy of the three partitions formed from \n",
    "    * Landsize $\\in$ [0,200]\n",
    "    * Landsize $\\in$ (200,450]\n",
    "    * Landsize $\\in$ (450, $\\infty$)"
   ]
  },
  {
   "cell_type": "code",
   "execution_count": 4,
   "metadata": {},
   "outputs": [
    {
     "data": {
      "text/plain": [
       "1.5825333114261775"
      ]
     },
     "execution_count": 4,
     "metadata": {},
     "output_type": "execute_result"
    }
   ],
   "source": [
    "calc_entropy(s_y)"
   ]
  },
  {
   "cell_type": "code",
   "execution_count": 5,
   "metadata": {},
   "outputs": [
    {
     "data": {
      "text/plain": [
       "1.3456432116206725"
      ]
     },
     "execution_count": 5,
     "metadata": {},
     "output_type": "execute_result"
    }
   ],
   "source": [
    "calc_entropy(df[df[\"Landsize\"].any() and df[\"Landsize\"] <= 200][\"Type\"])"
   ]
  },
  {
   "cell_type": "code",
   "execution_count": 6,
   "metadata": {},
   "outputs": [
    {
     "data": {
      "text/plain": [
       "1.4613003850147297"
      ]
     },
     "execution_count": 6,
     "metadata": {},
     "output_type": "execute_result"
    }
   ],
   "source": [
    "calc_entropy(df[(df[\"Landsize\"] >= 200) & (df[\"Landsize\"] <= 450)][\"Type\"])"
   ]
  },
  {
   "cell_type": "code",
   "execution_count": 7,
   "metadata": {},
   "outputs": [
    {
     "data": {
      "text/plain": [
       "1.09954792005911"
      ]
     },
     "execution_count": 7,
     "metadata": {},
     "output_type": "execute_result"
    }
   ],
   "source": [
    "calc_entropy(df[(df[\"Landsize\"] >= 450)][\"Type\"])"
   ]
  },
  {
   "cell_type": "markdown",
   "metadata": {},
   "source": [
    "## Q4 Define the Gini Index\n",
    "Implement the function `calc_gini` that takes the labels series, s_y, as a parameter. Implement using the definition on p128 in the DM book.  Use only pandas library"
   ]
  },
  {
   "cell_type": "code",
   "execution_count": 8,
   "metadata": {},
   "outputs": [],
   "source": [
    "def calc_gini(s_y):\n",
    "    totals = s_y.value_counts()\n",
    "    gini = 0\n",
    "    for total in totals:\n",
    "        prob = total/totals.sum()\n",
    "        gini += prob**2\n",
    "    return 1 - gini"
   ]
  },
  {
   "cell_type": "markdown",
   "metadata": {},
   "source": [
    "## Q5 Use the Gini Index function to\n",
    "  - (a) Calculate the Gini index of the entire training set\n",
    "  - (b) Calculate the Gini index of the three partitions formed from \n",
    "    * Landsize $\\in$ [0,200]\n",
    "    * Landsize $\\in$ (200,450]\n",
    "    * Landsize $\\in$ (450, $\\infty$)"
   ]
  },
  {
   "cell_type": "code",
   "execution_count": 9,
   "metadata": {},
   "outputs": [
    {
     "data": {
      "text/plain": [
       "0.6655601280292638"
      ]
     },
     "execution_count": 9,
     "metadata": {},
     "output_type": "execute_result"
    }
   ],
   "source": [
    "calc_gini(s_y)"
   ]
  },
  {
   "cell_type": "code",
   "execution_count": 10,
   "metadata": {},
   "outputs": [
    {
     "data": {
      "text/plain": [
       "0.5741211482422965"
      ]
     },
     "execution_count": 10,
     "metadata": {},
     "output_type": "execute_result"
    }
   ],
   "source": [
    "calc_gini(df[df[\"Landsize\"].any() and df[\"Landsize\"] <= 200][\"Type\"])"
   ]
  },
  {
   "cell_type": "code",
   "execution_count": 11,
   "metadata": {},
   "outputs": [
    {
     "data": {
      "text/plain": [
       "0.6077339178346639"
      ]
     },
     "execution_count": 11,
     "metadata": {},
     "output_type": "execute_result"
    }
   ],
   "source": [
    "calc_gini(df[(df[\"Landsize\"] >= 200) & (df[\"Landsize\"] <= 450)][\"Type\"])"
   ]
  },
  {
   "cell_type": "code",
   "execution_count": 12,
   "metadata": {},
   "outputs": [
    {
     "data": {
      "text/plain": [
       "0.43819341715976323"
      ]
     },
     "execution_count": 12,
     "metadata": {},
     "output_type": "execute_result"
    }
   ],
   "source": [
    "calc_gini(df[(df[\"Landsize\"] >= 450)][\"Type\"])"
   ]
  },
  {
   "cell_type": "markdown",
   "metadata": {},
   "source": [
    "## Q6 Create a decision tree \n",
    "Using [scikit-learn](https://scikit-learn.org/stable/modules/tree.html#tree) create a multi class classifer for the data set using the Entropy impurity measure and a max depth of 3\n",
    "\n",
    "Note that scikit-learn's algorithm doesn't handle categorical data, so that needs to be preprocessed using an one hot encoding.\n",
    "\n",
    "Display the tree using `export_text` from sklearn.tree, and use that information to write some descriptive analytics on the classification of houses.  For extra fun, use the export_graphviz to draw the graph (see documentation on the [scikit-learn webpage](https://scikit-learn.org/stable/modules/tree.html#classification)).  If you are on a Windows system and get stuck reach out in the homework channel to see if anyone else could get it working for tips and tricks.  If enough people with Windows can't make the visualization, I won't count it toward the homework grade."
   ]
  },
  {
   "cell_type": "code",
   "execution_count": 13,
   "metadata": {},
   "outputs": [
    {
     "name": "stdout",
     "output_type": "stream",
     "text": [
      "|--- YearBuilt <= 1977.50\n",
      "|   |--- Rooms <= 2.50\n",
      "|   |   |--- Price <= 915000.00\n",
      "|   |   |   |--- class: u\n",
      "|   |   |--- Price >  915000.00\n",
      "|   |   |   |--- class: h\n",
      "|   |--- Rooms >  2.50\n",
      "|   |   |--- Landsize <= 429.00\n",
      "|   |   |   |--- class: h\n",
      "|   |   |--- Landsize >  429.00\n",
      "|   |   |   |--- class: h\n",
      "|--- YearBuilt >  1977.50\n",
      "|   |--- BuildingArea <= 104.31\n",
      "|   |   |--- Landsize <= 76.00\n",
      "|   |   |   |--- class: u\n",
      "|   |   |--- Landsize >  76.00\n",
      "|   |   |   |--- class: t\n",
      "|   |--- BuildingArea >  104.31\n",
      "|   |   |--- Landsize <= 391.00\n",
      "|   |   |   |--- class: t\n",
      "|   |   |--- Landsize >  391.00\n",
      "|   |   |   |--- class: h\n",
      "\n"
     ]
    }
   ],
   "source": [
    "type_cols = pd.get_dummies(df_X['CouncilArea'])\n",
    "for col_title in type_cols:\n",
    "    df_X[col_title] = type_cols[col_title]\n",
    "del df_X['CouncilArea']\n",
    "\n",
    "decision_tree = tree.DecisionTreeClassifier(criterion = 'entropy', max_depth = 3)\n",
    "decision_tree = decision_tree.fit(df_X, s_y)\n",
    "results = tree.export_text(decision_tree, feature_names = list(df_X.columns))\n",
    "print(results)"
   ]
  },
  {
   "cell_type": "code",
   "execution_count": 14,
   "metadata": {},
   "outputs": [
    {
     "data": {
      "image/svg+xml": [
       "<?xml version=\"1.0\" encoding=\"UTF-8\" standalone=\"no\"?>\r\n",
       "<!DOCTYPE svg PUBLIC \"-//W3C//DTD SVG 1.1//EN\"\r\n",
       " \"http://www.w3.org/Graphics/SVG/1.1/DTD/svg11.dtd\">\r\n",
       "<!-- Generated by graphviz version 2.38.0 (20140413.2041)\r\n",
       " -->\r\n",
       "<!-- Title: Tree Pages: 1 -->\r\n",
       "<svg width=\"1176pt\" height=\"373pt\"\r\n",
       " viewBox=\"0.00 0.00 1176.00 373.00\" xmlns=\"http://www.w3.org/2000/svg\" xmlns:xlink=\"http://www.w3.org/1999/xlink\">\r\n",
       "<g id=\"graph0\" class=\"graph\" transform=\"scale(1 1) rotate(0) translate(4 369)\">\r\n",
       "<title>Tree</title>\r\n",
       "<polygon fill=\"white\" stroke=\"none\" points=\"-4,4 -4,-369 1172,-369 1172,4 -4,4\"/>\r\n",
       "<!-- 0 -->\r\n",
       "<g id=\"node1\" class=\"node\"><title>0</title>\r\n",
       "<path fill=\"#ffffff\" stroke=\"black\" d=\"M645.5,-365C645.5,-365 507.5,-365 507.5,-365 501.5,-365 495.5,-359 495.5,-353 495.5,-353 495.5,-309 495.5,-309 495.5,-303 501.5,-297 507.5,-297 507.5,-297 645.5,-297 645.5,-297 651.5,-297 657.5,-303 657.5,-309 657.5,-309 657.5,-353 657.5,-353 657.5,-359 651.5,-365 645.5,-365\"/>\r\n",
       "<text text-anchor=\"start\" x=\"518\" y=\"-349.8\" font-family=\"Helvetica,sans-Serif\" font-size=\"14.00\">YearBuilt ≤ 1977.5</text>\r\n",
       "<text text-anchor=\"start\" x=\"526.5\" y=\"-334.8\" font-family=\"Helvetica,sans-Serif\" font-size=\"14.00\">entropy = 1.583</text>\r\n",
       "<text text-anchor=\"start\" x=\"529\" y=\"-319.8\" font-family=\"Helvetica,sans-Serif\" font-size=\"14.00\">samples = 810</text>\r\n",
       "<text text-anchor=\"start\" x=\"503.5\" y=\"-304.8\" font-family=\"Helvetica,sans-Serif\" font-size=\"14.00\">value = [248, 281, 281]</text>\r\n",
       "</g>\r\n",
       "<!-- 1 -->\r\n",
       "<g id=\"node2\" class=\"node\"><title>1</title>\r\n",
       "<path fill=\"#fae7da\" stroke=\"black\" d=\"M528.5,-261C528.5,-261 398.5,-261 398.5,-261 392.5,-261 386.5,-255 386.5,-249 386.5,-249 386.5,-205 386.5,-205 386.5,-199 392.5,-193 398.5,-193 398.5,-193 528.5,-193 528.5,-193 534.5,-193 540.5,-199 540.5,-205 540.5,-205 540.5,-249 540.5,-249 540.5,-255 534.5,-261 528.5,-261\"/>\r\n",
       "<text text-anchor=\"start\" x=\"422.5\" y=\"-245.8\" font-family=\"Helvetica,sans-Serif\" font-size=\"14.00\">Rooms ≤ 2.5</text>\r\n",
       "<text text-anchor=\"start\" x=\"413.5\" y=\"-230.8\" font-family=\"Helvetica,sans-Serif\" font-size=\"14.00\">entropy = 1.264</text>\r\n",
       "<text text-anchor=\"start\" x=\"416\" y=\"-215.8\" font-family=\"Helvetica,sans-Serif\" font-size=\"14.00\">samples = 370</text>\r\n",
       "<text text-anchor=\"start\" x=\"394.5\" y=\"-200.8\" font-family=\"Helvetica,sans-Serif\" font-size=\"14.00\">value = [194, 23, 153]</text>\r\n",
       "</g>\r\n",
       "<!-- 0&#45;&gt;1 -->\r\n",
       "<g id=\"edge1\" class=\"edge\"><title>0&#45;&gt;1</title>\r\n",
       "<path fill=\"none\" stroke=\"black\" d=\"M539.812,-296.884C529.648,-287.709 518.505,-277.65 507.95,-268.123\"/>\r\n",
       "<polygon fill=\"black\" stroke=\"black\" points=\"510.159,-265.402 500.39,-261.299 505.468,-270.598 510.159,-265.402\"/>\r\n",
       "<text text-anchor=\"middle\" x=\"501.668\" y=\"-282.567\" font-family=\"Helvetica,sans-Serif\" font-size=\"14.00\">True</text>\r\n",
       "</g>\r\n",
       "<!-- 8 -->\r\n",
       "<g id=\"node9\" class=\"node\"><title>8</title>\r\n",
       "<path fill=\"#adf4ca\" stroke=\"black\" d=\"M761,-261C761,-261 620,-261 620,-261 614,-261 608,-255 608,-249 608,-249 608,-205 608,-205 608,-199 614,-193 620,-193 620,-193 761,-193 761,-193 767,-193 773,-199 773,-205 773,-205 773,-249 773,-249 773,-255 767,-261 761,-261\"/>\r\n",
       "<text text-anchor=\"start\" x=\"616\" y=\"-245.8\" font-family=\"Helvetica,sans-Serif\" font-size=\"14.00\">BuildingArea ≤ 104.315</text>\r\n",
       "<text text-anchor=\"start\" x=\"640.5\" y=\"-230.8\" font-family=\"Helvetica,sans-Serif\" font-size=\"14.00\">entropy = 1.341</text>\r\n",
       "<text text-anchor=\"start\" x=\"643\" y=\"-215.8\" font-family=\"Helvetica,sans-Serif\" font-size=\"14.00\">samples = 440</text>\r\n",
       "<text text-anchor=\"start\" x=\"621.5\" y=\"-200.8\" font-family=\"Helvetica,sans-Serif\" font-size=\"14.00\">value = [54, 258, 128]</text>\r\n",
       "</g>\r\n",
       "<!-- 0&#45;&gt;8 -->\r\n",
       "<g id=\"edge8\" class=\"edge\"><title>0&#45;&gt;8</title>\r\n",
       "<path fill=\"none\" stroke=\"black\" d=\"M613.513,-296.884C623.766,-287.709 635.009,-277.65 645.657,-268.123\"/>\r\n",
       "<polygon fill=\"black\" stroke=\"black\" points=\"648.164,-270.576 653.283,-261.299 643.497,-265.359 648.164,-270.576\"/>\r\n",
       "<text text-anchor=\"middle\" x=\"651.896\" y=\"-282.561\" font-family=\"Helvetica,sans-Serif\" font-size=\"14.00\">False</text>\r\n",
       "</g>\r\n",
       "<!-- 2 -->\r\n",
       "<g id=\"node3\" class=\"node\"><title>2</title>\r\n",
       "<path fill=\"#a572ed\" stroke=\"black\" d=\"M268.5,-157C268.5,-157 146.5,-157 146.5,-157 140.5,-157 134.5,-151 134.5,-145 134.5,-145 134.5,-101 134.5,-101 134.5,-95 140.5,-89 146.5,-89 146.5,-89 268.5,-89 268.5,-89 274.5,-89 280.5,-95 280.5,-101 280.5,-101 280.5,-145 280.5,-145 280.5,-151 274.5,-157 268.5,-157\"/>\r\n",
       "<text text-anchor=\"start\" x=\"152.5\" y=\"-141.8\" font-family=\"Helvetica,sans-Serif\" font-size=\"14.00\">Price ≤ 915000.0</text>\r\n",
       "<text text-anchor=\"start\" x=\"157.5\" y=\"-126.8\" font-family=\"Helvetica,sans-Serif\" font-size=\"14.00\">entropy = 0.974</text>\r\n",
       "<text text-anchor=\"start\" x=\"160\" y=\"-111.8\" font-family=\"Helvetica,sans-Serif\" font-size=\"14.00\">samples = 182</text>\r\n",
       "<text text-anchor=\"start\" x=\"142.5\" y=\"-96.8\" font-family=\"Helvetica,sans-Serif\" font-size=\"14.00\">value = [33, 10, 139]</text>\r\n",
       "</g>\r\n",
       "<!-- 1&#45;&gt;2 -->\r\n",
       "<g id=\"edge2\" class=\"edge\"><title>1&#45;&gt;2</title>\r\n",
       "<path fill=\"none\" stroke=\"black\" d=\"M386.344,-195.258C355.925,-183.138 320.93,-169.195 290.008,-156.874\"/>\r\n",
       "<polygon fill=\"black\" stroke=\"black\" points=\"291.137,-153.556 280.552,-153.106 288.546,-160.059 291.137,-153.556\"/>\r\n",
       "</g>\r\n",
       "<!-- 5 -->\r\n",
       "<g id=\"node6\" class=\"node\"><title>5</title>\r\n",
       "<path fill=\"#e99558\" stroke=\"black\" d=\"M524.5,-157C524.5,-157 402.5,-157 402.5,-157 396.5,-157 390.5,-151 390.5,-145 390.5,-145 390.5,-101 390.5,-101 390.5,-95 396.5,-89 402.5,-89 402.5,-89 524.5,-89 524.5,-89 530.5,-89 536.5,-95 536.5,-101 536.5,-101 536.5,-145 536.5,-145 536.5,-151 530.5,-157 524.5,-157\"/>\r\n",
       "<text text-anchor=\"start\" x=\"409\" y=\"-141.8\" font-family=\"Helvetica,sans-Serif\" font-size=\"14.00\">Landsize ≤ 429.0</text>\r\n",
       "<text text-anchor=\"start\" x=\"413.5\" y=\"-126.8\" font-family=\"Helvetica,sans-Serif\" font-size=\"14.00\">entropy = 0.737</text>\r\n",
       "<text text-anchor=\"start\" x=\"416\" y=\"-111.8\" font-family=\"Helvetica,sans-Serif\" font-size=\"14.00\">samples = 188</text>\r\n",
       "<text text-anchor=\"start\" x=\"398.5\" y=\"-96.8\" font-family=\"Helvetica,sans-Serif\" font-size=\"14.00\">value = [161, 13, 14]</text>\r\n",
       "</g>\r\n",
       "<!-- 1&#45;&gt;5 -->\r\n",
       "<g id=\"edge5\" class=\"edge\"><title>1&#45;&gt;5</title>\r\n",
       "<path fill=\"none\" stroke=\"black\" d=\"M463.5,-192.884C463.5,-184.778 463.5,-175.982 463.5,-167.472\"/>\r\n",
       "<polygon fill=\"black\" stroke=\"black\" points=\"467,-167.299 463.5,-157.299 460,-167.299 467,-167.299\"/>\r\n",
       "</g>\r\n",
       "<!-- 3 -->\r\n",
       "<g id=\"node4\" class=\"node\"><title>3</title>\r\n",
       "<path fill=\"#8f4fe8\" stroke=\"black\" d=\"M117,-53C117,-53 12,-53 12,-53 6,-53 0,-47 0,-41 0,-41 0,-12 0,-12 0,-6 6,-0 12,-0 12,-0 117,-0 117,-0 123,-0 129,-6 129,-12 129,-12 129,-41 129,-41 129,-47 123,-53 117,-53\"/>\r\n",
       "<text text-anchor=\"start\" x=\"14.5\" y=\"-37.8\" font-family=\"Helvetica,sans-Serif\" font-size=\"14.00\">entropy = 0.595</text>\r\n",
       "<text text-anchor=\"start\" x=\"17\" y=\"-22.8\" font-family=\"Helvetica,sans-Serif\" font-size=\"14.00\">samples = 150</text>\r\n",
       "<text text-anchor=\"start\" x=\"8\" y=\"-7.8\" font-family=\"Helvetica,sans-Serif\" font-size=\"14.00\">value = [9, 7, 134]</text>\r\n",
       "</g>\r\n",
       "<!-- 2&#45;&gt;3 -->\r\n",
       "<g id=\"edge3\" class=\"edge\"><title>2&#45;&gt;3</title>\r\n",
       "<path fill=\"none\" stroke=\"black\" d=\"M157.486,-88.9485C142.674,-79.1601 126.505,-68.4756 111.866,-58.8015\"/>\r\n",
       "<polygon fill=\"black\" stroke=\"black\" points=\"113.718,-55.83 103.445,-53.2367 109.859,-61.6701 113.718,-55.83\"/>\r\n",
       "</g>\r\n",
       "<!-- 4 -->\r\n",
       "<g id=\"node5\" class=\"node\"><title>4</title>\r\n",
       "<path fill=\"#eda674\" stroke=\"black\" d=\"M256,-53C256,-53 159,-53 159,-53 153,-53 147,-47 147,-41 147,-41 147,-12 147,-12 147,-6 153,-0 159,-0 159,-0 256,-0 256,-0 262,-0 268,-6 268,-12 268,-12 268,-41 268,-41 268,-47 262,-53 256,-53\"/>\r\n",
       "<text text-anchor=\"start\" x=\"161.5\" y=\"-37.8\" font-family=\"Helvetica,sans-Serif\" font-size=\"14.00\">entropy = 1.05</text>\r\n",
       "<text text-anchor=\"start\" x=\"164\" y=\"-22.8\" font-family=\"Helvetica,sans-Serif\" font-size=\"14.00\">samples = 32</text>\r\n",
       "<text text-anchor=\"start\" x=\"155\" y=\"-7.8\" font-family=\"Helvetica,sans-Serif\" font-size=\"14.00\">value = [24, 3, 5]</text>\r\n",
       "</g>\r\n",
       "<!-- 2&#45;&gt;4 -->\r\n",
       "<g id=\"edge4\" class=\"edge\"><title>2&#45;&gt;4</title>\r\n",
       "<path fill=\"none\" stroke=\"black\" d=\"M207.5,-88.9485C207.5,-80.7153 207.5,-71.848 207.5,-63.4814\"/>\r\n",
       "<polygon fill=\"black\" stroke=\"black\" points=\"211,-63.2367 207.5,-53.2367 204,-63.2367 211,-63.2367\"/>\r\n",
       "</g>\r\n",
       "<!-- 6 -->\r\n",
       "<g id=\"node7\" class=\"node\"><title>6</title>\r\n",
       "<path fill=\"#efb285\" stroke=\"black\" d=\"M411,-53C411,-53 298,-53 298,-53 292,-53 286,-47 286,-41 286,-41 286,-12 286,-12 286,-6 292,-0 298,-0 298,-0 411,-0 411,-0 417,-0 423,-6 423,-12 423,-12 423,-41 423,-41 423,-47 417,-53 411,-53\"/>\r\n",
       "<text text-anchor=\"start\" x=\"308.5\" y=\"-37.8\" font-family=\"Helvetica,sans-Serif\" font-size=\"14.00\">entropy = 1.22</text>\r\n",
       "<text text-anchor=\"start\" x=\"311\" y=\"-22.8\" font-family=\"Helvetica,sans-Serif\" font-size=\"14.00\">samples = 69</text>\r\n",
       "<text text-anchor=\"start\" x=\"294\" y=\"-7.8\" font-family=\"Helvetica,sans-Serif\" font-size=\"14.00\">value = [47, 10, 12]</text>\r\n",
       "</g>\r\n",
       "<!-- 5&#45;&gt;6 -->\r\n",
       "<g id=\"edge6\" class=\"edge\"><title>5&#45;&gt;6</title>\r\n",
       "<path fill=\"none\" stroke=\"black\" d=\"M425.377,-88.9485C414.509,-79.526 402.683,-69.2731 391.861,-59.8906\"/>\r\n",
       "<polygon fill=\"black\" stroke=\"black\" points=\"394.034,-57.1428 384.186,-53.2367 389.449,-62.4319 394.034,-57.1428\"/>\r\n",
       "</g>\r\n",
       "<!-- 7 -->\r\n",
       "<g id=\"node8\" class=\"node\"><title>7</title>\r\n",
       "<path fill=\"#e68642\" stroke=\"black\" d=\"M558,-53C558,-53 453,-53 453,-53 447,-53 441,-47 441,-41 441,-41 441,-12 441,-12 441,-6 447,-0 453,-0 453,-0 558,-0 558,-0 564,-0 570,-6 570,-12 570,-12 570,-41 570,-41 570,-47 564,-53 558,-53\"/>\r\n",
       "<text text-anchor=\"start\" x=\"455.5\" y=\"-37.8\" font-family=\"Helvetica,sans-Serif\" font-size=\"14.00\">entropy = 0.292</text>\r\n",
       "<text text-anchor=\"start\" x=\"458\" y=\"-22.8\" font-family=\"Helvetica,sans-Serif\" font-size=\"14.00\">samples = 119</text>\r\n",
       "<text text-anchor=\"start\" x=\"449\" y=\"-7.8\" font-family=\"Helvetica,sans-Serif\" font-size=\"14.00\">value = [114, 3, 2]</text>\r\n",
       "</g>\r\n",
       "<!-- 5&#45;&gt;7 -->\r\n",
       "<g id=\"edge7\" class=\"edge\"><title>5&#45;&gt;7</title>\r\n",
       "<path fill=\"none\" stroke=\"black\" d=\"M478.19,-88.9485C481.971,-80.4408 486.053,-71.2562 489.879,-62.6464\"/>\r\n",
       "<polygon fill=\"black\" stroke=\"black\" points=\"493.198,-63.7963 494.061,-53.2367 486.802,-60.9533 493.198,-63.7963\"/>\r\n",
       "</g>\r\n",
       "<!-- 9 -->\r\n",
       "<g id=\"node10\" class=\"node\"><title>9</title>\r\n",
       "<path fill=\"#c8a8f4\" stroke=\"black\" d=\"M743,-157C743,-157 638,-157 638,-157 632,-157 626,-151 626,-145 626,-145 626,-101 626,-101 626,-95 632,-89 638,-89 638,-89 743,-89 743,-89 749,-89 755,-95 755,-101 755,-101 755,-145 755,-145 755,-151 749,-157 743,-157\"/>\r\n",
       "<text text-anchor=\"start\" x=\"640\" y=\"-141.8\" font-family=\"Helvetica,sans-Serif\" font-size=\"14.00\">Landsize ≤ 76.0</text>\r\n",
       "<text text-anchor=\"start\" x=\"640.5\" y=\"-126.8\" font-family=\"Helvetica,sans-Serif\" font-size=\"14.00\">entropy = 1.118</text>\r\n",
       "<text text-anchor=\"start\" x=\"643\" y=\"-111.8\" font-family=\"Helvetica,sans-Serif\" font-size=\"14.00\">samples = 145</text>\r\n",
       "<text text-anchor=\"start\" x=\"634\" y=\"-96.8\" font-family=\"Helvetica,sans-Serif\" font-size=\"14.00\">value = [5, 49, 91]</text>\r\n",
       "</g>\r\n",
       "<!-- 8&#45;&gt;9 -->\r\n",
       "<g id=\"edge9\" class=\"edge\"><title>8&#45;&gt;9</title>\r\n",
       "<path fill=\"none\" stroke=\"black\" d=\"M690.5,-192.884C690.5,-184.778 690.5,-175.982 690.5,-167.472\"/>\r\n",
       "<polygon fill=\"black\" stroke=\"black\" points=\"694,-167.299 690.5,-157.299 687,-167.299 694,-167.299\"/>\r\n",
       "</g>\r\n",
       "<!-- 12 -->\r\n",
       "<g id=\"node13\" class=\"node\"><title>12</title>\r\n",
       "<path fill=\"#7eeead\" stroke=\"black\" d=\"M1008.5,-157C1008.5,-157 886.5,-157 886.5,-157 880.5,-157 874.5,-151 874.5,-145 874.5,-145 874.5,-101 874.5,-101 874.5,-95 880.5,-89 886.5,-89 886.5,-89 1008.5,-89 1008.5,-89 1014.5,-89 1020.5,-95 1020.5,-101 1020.5,-101 1020.5,-145 1020.5,-145 1020.5,-151 1014.5,-157 1008.5,-157\"/>\r\n",
       "<text text-anchor=\"start\" x=\"893\" y=\"-141.8\" font-family=\"Helvetica,sans-Serif\" font-size=\"14.00\">Landsize ≤ 391.0</text>\r\n",
       "<text text-anchor=\"start\" x=\"897.5\" y=\"-126.8\" font-family=\"Helvetica,sans-Serif\" font-size=\"14.00\">entropy = 1.158</text>\r\n",
       "<text text-anchor=\"start\" x=\"900\" y=\"-111.8\" font-family=\"Helvetica,sans-Serif\" font-size=\"14.00\">samples = 295</text>\r\n",
       "<text text-anchor=\"start\" x=\"882.5\" y=\"-96.8\" font-family=\"Helvetica,sans-Serif\" font-size=\"14.00\">value = [49, 209, 37]</text>\r\n",
       "</g>\r\n",
       "<!-- 8&#45;&gt;12 -->\r\n",
       "<g id=\"edge12\" class=\"edge\"><title>8&#45;&gt;12</title>\r\n",
       "<path fill=\"none\" stroke=\"black\" d=\"M773.231,-193.165C802.625,-181.499 835.695,-168.374 865.065,-156.717\"/>\r\n",
       "<polygon fill=\"black\" stroke=\"black\" points=\"866.458,-159.93 874.461,-152.988 863.875,-153.424 866.458,-159.93\"/>\r\n",
       "</g>\r\n",
       "<!-- 10 -->\r\n",
       "<g id=\"node11\" class=\"node\"><title>10</title>\r\n",
       "<path fill=\"#9253e8\" stroke=\"black\" d=\"M697,-53C697,-53 600,-53 600,-53 594,-53 588,-47 588,-41 588,-41 588,-12 588,-12 588,-6 594,-0 600,-0 600,-0 697,-0 697,-0 703,-0 709,-6 709,-12 709,-12 709,-41 709,-41 709,-47 703,-53 697,-53\"/>\r\n",
       "<text text-anchor=\"start\" x=\"598.5\" y=\"-37.8\" font-family=\"Helvetica,sans-Serif\" font-size=\"14.00\">entropy = 0.523</text>\r\n",
       "<text text-anchor=\"start\" x=\"605\" y=\"-22.8\" font-family=\"Helvetica,sans-Serif\" font-size=\"14.00\">samples = 68</text>\r\n",
       "<text text-anchor=\"start\" x=\"596\" y=\"-7.8\" font-family=\"Helvetica,sans-Serif\" font-size=\"14.00\">value = [0, 8, 60]</text>\r\n",
       "</g>\r\n",
       "<!-- 9&#45;&gt;10 -->\r\n",
       "<g id=\"edge10\" class=\"edge\"><title>9&#45;&gt;10</title>\r\n",
       "<path fill=\"none\" stroke=\"black\" d=\"M675.81,-88.9485C672.029,-80.4408 667.947,-71.2562 664.121,-62.6464\"/>\r\n",
       "<polygon fill=\"black\" stroke=\"black\" points=\"667.198,-60.9533 659.939,-53.2367 660.802,-63.7963 667.198,-60.9533\"/>\r\n",
       "</g>\r\n",
       "<!-- 11 -->\r\n",
       "<g id=\"node12\" class=\"node\"><title>11</title>\r\n",
       "<path fill=\"#d4f9e4\" stroke=\"black\" d=\"M844,-53C844,-53 739,-53 739,-53 733,-53 727,-47 727,-41 727,-41 727,-12 727,-12 727,-6 733,-0 739,-0 739,-0 844,-0 844,-0 850,-0 856,-6 856,-12 856,-12 856,-41 856,-41 856,-47 850,-53 844,-53\"/>\r\n",
       "<text text-anchor=\"start\" x=\"741.5\" y=\"-37.8\" font-family=\"Helvetica,sans-Serif\" font-size=\"14.00\">entropy = 1.269</text>\r\n",
       "<text text-anchor=\"start\" x=\"748\" y=\"-22.8\" font-family=\"Helvetica,sans-Serif\" font-size=\"14.00\">samples = 77</text>\r\n",
       "<text text-anchor=\"start\" x=\"735\" y=\"-7.8\" font-family=\"Helvetica,sans-Serif\" font-size=\"14.00\">value = [5, 41, 31]</text>\r\n",
       "</g>\r\n",
       "<!-- 9&#45;&gt;11 -->\r\n",
       "<g id=\"edge11\" class=\"edge\"><title>9&#45;&gt;11</title>\r\n",
       "<path fill=\"none\" stroke=\"black\" d=\"M725.825,-88.9485C735.798,-79.6175 746.641,-69.4722 756.589,-60.1641\"/>\r\n",
       "<polygon fill=\"black\" stroke=\"black\" points=\"759.082,-62.6247 763.993,-53.2367 754.3,-57.5132 759.082,-62.6247\"/>\r\n",
       "</g>\r\n",
       "<!-- 13 -->\r\n",
       "<g id=\"node14\" class=\"node\"><title>13</title>\r\n",
       "<path fill=\"#69eb9f\" stroke=\"black\" d=\"M1008.5,-53C1008.5,-53 886.5,-53 886.5,-53 880.5,-53 874.5,-47 874.5,-41 874.5,-41 874.5,-12 874.5,-12 874.5,-6 880.5,-0 886.5,-0 886.5,-0 1008.5,-0 1008.5,-0 1014.5,-0 1020.5,-6 1020.5,-12 1020.5,-12 1020.5,-41 1020.5,-41 1020.5,-47 1014.5,-53 1008.5,-53\"/>\r\n",
       "<text text-anchor=\"start\" x=\"897.5\" y=\"-37.8\" font-family=\"Helvetica,sans-Serif\" font-size=\"14.00\">entropy = 0.933</text>\r\n",
       "<text text-anchor=\"start\" x=\"900\" y=\"-22.8\" font-family=\"Helvetica,sans-Serif\" font-size=\"14.00\">samples = 245</text>\r\n",
       "<text text-anchor=\"start\" x=\"882.5\" y=\"-7.8\" font-family=\"Helvetica,sans-Serif\" font-size=\"14.00\">value = [18, 194, 33]</text>\r\n",
       "</g>\r\n",
       "<!-- 12&#45;&gt;13 -->\r\n",
       "<g id=\"edge13\" class=\"edge\"><title>12&#45;&gt;13</title>\r\n",
       "<path fill=\"none\" stroke=\"black\" d=\"M947.5,-88.9485C947.5,-80.7153 947.5,-71.848 947.5,-63.4814\"/>\r\n",
       "<polygon fill=\"black\" stroke=\"black\" points=\"951,-63.2367 947.5,-53.2367 944,-63.2367 951,-63.2367\"/>\r\n",
       "</g>\r\n",
       "<!-- 14 -->\r\n",
       "<g id=\"node15\" class=\"node\"><title>14</title>\r\n",
       "<path fill=\"#f3c5a4\" stroke=\"black\" d=\"M1156,-53C1156,-53 1051,-53 1051,-53 1045,-53 1039,-47 1039,-41 1039,-41 1039,-12 1039,-12 1039,-6 1045,-0 1051,-0 1051,-0 1156,-0 1156,-0 1162,-0 1168,-6 1168,-12 1168,-12 1168,-41 1168,-41 1168,-47 1162,-53 1156,-53\"/>\r\n",
       "<text text-anchor=\"start\" x=\"1057.5\" y=\"-37.8\" font-family=\"Helvetica,sans-Serif\" font-size=\"14.00\">entropy = 1.24</text>\r\n",
       "<text text-anchor=\"start\" x=\"1060\" y=\"-22.8\" font-family=\"Helvetica,sans-Serif\" font-size=\"14.00\">samples = 50</text>\r\n",
       "<text text-anchor=\"start\" x=\"1047\" y=\"-7.8\" font-family=\"Helvetica,sans-Serif\" font-size=\"14.00\">value = [31, 15, 4]</text>\r\n",
       "</g>\r\n",
       "<!-- 12&#45;&gt;14 -->\r\n",
       "<g id=\"edge14\" class=\"edge\"><title>12&#45;&gt;14</title>\r\n",
       "<path fill=\"none\" stroke=\"black\" d=\"M1002.06,-88.9485C1018.37,-79.0686 1036.19,-68.2758 1052.28,-58.5305\"/>\r\n",
       "<polygon fill=\"black\" stroke=\"black\" points=\"1054.27,-61.4115 1061.01,-53.2367 1050.65,-55.4244 1054.27,-61.4115\"/>\r\n",
       "</g>\r\n",
       "</g>\r\n",
       "</svg>\r\n"
      ],
      "text/plain": [
       "<graphviz.files.Source at 0x1a87272d040>"
      ]
     },
     "execution_count": 14,
     "metadata": {},
     "output_type": "execute_result"
    }
   ],
   "source": [
    "names = list(df_X)\n",
    "dot_data = tree.export_graphviz(decision_tree, out_file=None, \n",
    "                                feature_names=names, \n",
    "                                filled=True, \n",
    "                                rounded=True, \n",
    "                                special_characters=True)\n",
    "graph = graphviz.Source(dot_data)\n",
    "graph"
   ]
  },
  {
   "cell_type": "code",
   "execution_count": 15,
   "metadata": {},
   "outputs": [],
   "source": [
    "# Entropy appears to decrease on average with increasing depth.\n",
    "# h, t, u nodes generally come from a parent of the same type.\n",
    "# First split is YearBuilt, so it is the best predictor.\n",
    "# Landsize is used as the split for three out of the four branches at depth 3.\n",
    "# No strong correlation between sample size of leaves that come from the same parent. (Not evenly split between leaves)"
   ]
  },
  {
   "cell_type": "markdown",
   "metadata": {},
   "source": [
    "Markdown explaination here"
   ]
  },
  {
   "cell_type": "markdown",
   "metadata": {},
   "source": [
    "## Q7 Calculate the Accuracy and Display Learning Curve\n",
    "Load in the test data.\n",
    "\n",
    "Use the scikit-learn library to create decision trees with the following configurations\n",
    "\n",
    "    - Vary the max depth from 2 to 15 with the Gini Index as the impurity measure\n",
    "    - Vary the max depth from 2 to 15 with the Entropy as the impurity measure\n",
    "\n",
    "\n",
    "Evaluate the accuracy of each decision tree with both the \n",
    "  - Training set\n",
    "  - Test set\n",
    "\n",
    "Display the results graphicaly, and offer an analysis of the trend (or if no trend present, offer a hypotheisis of why).  The max depth should be on the x-axis, and the error rate should be on the y-axis (see figure 3.23 in your DM textbook for a similar style of graph that uses leaf nodes instead of depth for the x-axis)."
   ]
  },
  {
   "cell_type": "code",
   "execution_count": 16,
   "metadata": {},
   "outputs": [],
   "source": [
    "df2 = pd.read_csv(\"melb_tree_test.csv\")\n",
    "type_cols = pd.get_dummies(df2['CouncilArea'])\n",
    "for col_title in type_cols:\n",
    "    df2[col_title] = type_cols[col_title]\n",
    "del df2['CouncilArea']\n",
    "df_test = df2.drop('Type', axis = 1)\n",
    "\n",
    "def accuracy(actual, predicted):\n",
    "    count = 0\n",
    "    for index, value in enumerate(predicted):\n",
    "        if value == actual[index]:\n",
    "            count += 1\n",
    "    return count / len(actual)"
   ]
  },
  {
   "cell_type": "code",
   "execution_count": 17,
   "metadata": {},
   "outputs": [
    {
     "data": {
      "image/png": "[encoded data removed]",
      "text/plain": [
       "<Figure size 432x288 with 1 Axes>"
      ]
     },
     "metadata": {
      "needs_background": "light"
     },
     "output_type": "display_data"
    }
   ],
   "source": [
    "for criteria in ['gini', 'entropy']:\n",
    "    depths = range(2, 16)\n",
    "    train_errors = []\n",
    "    test_errors = []\n",
    "    \n",
    "    for depth in depths:\n",
    "        train = tree.DecisionTreeClassifier(criterion = criteria, max_depth = depth)\n",
    "        train = train.fit(df_X, s_y)\n",
    "        \n",
    "        train_predict = train.predict(df_X)\n",
    "        test_predict = train.predict(df_test)\n",
    "        \n",
    "        train_errors.append(1 - accuracy(s_y, train_predict))\n",
    "        test_errors.append(1 - accuracy(df2['Type'], test_predict))\n",
    "        \n",
    "    plt.plot(depths, train_errors)\n",
    "    plt.plot(depths, test_errors)\n",
    "    \n",
    "plt.title(\"Error vs Depth\")\n",
    "plt.xlabel(\"Depth\")\n",
    "plt.ylabel(\"Error (%)\")\n",
    "plt.legend([\"Gini Train\", \"Gini Test\", \"Entropy Train\", \"Entropy Test\"])\n",
    "plt.show()    "
   ]
  },
  {
   "cell_type": "code",
   "execution_count": 18,
   "metadata": {},
   "outputs": [],
   "source": [
    "# Training error is less than Testing error\n",
    "# As Depth increases, although the Training data decreases in error,\n",
    "#    the data becomes overfitted for the Testing data and develops greater error past a depth of 3 to 4\n",
    "# Gini/Entropy criterions errors are closer together for Training than for Testing\n",
    "#    but for Testing their errors are still within 4%"
   ]
  }
 ],
 "metadata": {
  "kernelspec": {
   "display_name": "Python 3",
   "language": "python",
   "name": "python3"
  },
  "language_info": {
   "codemirror_mode": {
    "name": "ipython",
    "version": 3
   },
   "file_extension": ".py",
   "mimetype": "text/x-python",
   "name": "python",
   "nbconvert_exporter": "python",
   "pygments_lexer": "ipython3",
   "version": "3.8.3"
  }
 },
 "nbformat": 4,
 "nbformat_minor": 4
}
